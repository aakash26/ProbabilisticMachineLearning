{
 "cells": [
  {
   "cell_type": "markdown",
   "metadata": {},
   "source": [
    "Before you turn this problem in, make sure everything runs as expected. First, **restart the kernel** (in the menubar, select Kernel$\\rightarrow$Restart) and then **run all cells** (in the menubar, select Cell$\\rightarrow$Run All).\n",
    "\n",
    "Make sure you fill in any place that says `YOUR CODE HERE` or \"YOUR ANSWER HERE\", as well as your name and collaborators below:"
   ]
  },
  {
   "cell_type": "code",
   "execution_count": 1,
   "metadata": {},
   "outputs": [],
   "source": [
    "NAME = \"Tutorial 1  \"\n",
    "COLLABORATORS = \"Aakash Rajpal\""
   ]
  },
  {
   "cell_type": "markdown",
   "metadata": {},
   "source": [
    "---"
   ]
  },
  {
   "cell_type": "code",
   "execution_count": 2,
   "metadata": {
    "deletable": false,
    "editable": false,
    "nbgrader": {
     "cell_type": "code",
     "checksum": "80c0328beb576f3f3e76241c64916a4e",
     "grade": false,
     "grade_id": "cell-83d70619f0cf6a07",
     "locked": true,
     "schema_version": 3,
     "solution": false,
     "task": false
    },
    "pycharm": {
     "is_executing": false
    }
   },
   "outputs": [
    {
     "name": "stdout",
     "output_type": "stream",
     "text": [
      "3.6.9 (default, Oct  8 2020, 12:12:24) \n",
      "[GCC 8.4.0]\n"
     ]
    }
   ],
   "source": [
    "import sys\n",
    "import math\n",
    "import typing\n",
    "from typing import Tuple, Dict, List\n",
    "\n",
    "import gensim\n",
    "import numpy as np\n",
    "import pandas as pd\n",
    "import scipy.special\n",
    "\n",
    "from ast import literal_eval\n",
    "\n",
    "print(sys.version)"
   ]
  },
  {
   "cell_type": "markdown",
   "metadata": {
    "deletable": false,
    "editable": false,
    "nbgrader": {
     "cell_type": "markdown",
     "checksum": "d7ceb839ce6f804c1cd9d38d47945a68",
     "grade": false,
     "grade_id": "cell-0759b4e6d9a759b7",
     "locked": true,
     "schema_version": 3,
     "solution": false,
     "task": false
    },
    "pycharm": {}
   },
   "source": [
    "## 1. Hyperparameters\n"
   ]
  },
  {
   "cell_type": "code",
   "execution_count": 3,
   "metadata": {
    "deletable": false,
    "editable": false,
    "nbgrader": {
     "cell_type": "code",
     "checksum": "63027a2ee2e9491b1bcd14396171d12a",
     "grade": false,
     "grade_id": "cell-3a8499089537378a",
     "locked": true,
     "schema_version": 3,
     "solution": false,
     "task": false
    },
    "pycharm": {
     "is_executing": false
    }
   },
   "outputs": [],
   "source": [
    "K = 5 # Number of mixture components\n",
    "I = 120 # Number of words in the dictionary\n",
    "N = None # Number of documents"
   ]
  },
  {
   "cell_type": "markdown",
   "metadata": {
    "deletable": false,
    "editable": false,
    "nbgrader": {
     "cell_type": "markdown",
     "checksum": "58e5b3d045be66aca9fec11798b22a74",
     "grade": false,
     "grade_id": "cell-a945483ca545d1cb",
     "locked": true,
     "schema_version": 3,
     "solution": false,
     "task": false
    }
   },
   "source": [
    "## 2. Load and preprocess the data\n",
    "\n",
    "First, we need to load the data from the csv. This file contains the documents already processed and cleaned after applying the following steps:\n",
    "\n",
    "1. Tokenization\n",
    "2. Homogeneization, which includes:\n",
    "    1. Removing capitalization.\n",
    "    2. Removing non alphanumeric tokens (e.g. punktuation signs)\n",
    "    3. Stemming/Lemmatization.\n",
    "3. Cleaning\n",
    "4. Vectorization\n",
    "\n",
    "\n",
    "We load it as a `pandas` dataframe.\n"
   ]
  },
  {
   "cell_type": "code",
   "execution_count": 4,
   "metadata": {
    "deletable": false,
    "editable": false,
    "nbgrader": {
     "cell_type": "code",
     "checksum": "3de4d75da57c2180582ec54e883c4623",
     "grade": false,
     "grade_id": "cell-938e7d1061082682",
     "locked": true,
     "schema_version": 3,
     "solution": false,
     "task": false
    },
    "pycharm": {
     "is_executing": false,
     "name": "#%%\n"
    }
   },
   "outputs": [],
   "source": [
    "df = pd.read_csv('../../tweets_cleaned.csv')\n",
    "df.drop_duplicates(subset=\"tweet\", inplace=True)\n",
    "\n",
    "df['tokens'] = df['tokens'].apply(literal_eval) #Transform the string into a list of tokens\n",
    "X_tokens = list(df['tokens'].values)"
   ]
  },
  {
   "cell_type": "code",
   "execution_count": 5,
   "metadata": {
    "deletable": false,
    "editable": false,
    "nbgrader": {
     "cell_type": "code",
     "checksum": "4c6d72203cc7023e9a1fa32aefd4d1d0",
     "grade": false,
     "grade_id": "cell-91f8d45624f84997",
     "locked": true,
     "schema_version": 3,
     "solution": false,
     "task": false
    },
    "pycharm": {
     "is_executing": false
    }
   },
   "outputs": [
    {
     "name": "stdout",
     "output_type": "stream",
     "text": [
      "Columns: tweet_id | timestamp | user_id | tweet | tweets_clean | tokens\n",
      "\n",
      "Tweet:\n",
      "OSINT people - please retweet, if possible. My friend is looking for women involved in OSINT. https://twitter.com/manisha_bot/status/1181594280336531457 …\n",
      "Tweet cleaned:\n",
      "osint people   please retweet  if possible  my friend is looking for women involved in osint\n",
      "Tweet tokens:\n",
      "['osint', 'peopl', 'retweet', 'possibl', 'friend', 'look', 'woman', 'involv', 'osint']\n"
     ]
    }
   ],
   "source": [
    "print('Columns: {}\\n'.format(' | '.join(df.columns.values)))\n",
    "\n",
    "print('Tweet:\\n{}'.format(df.loc[1, 'tweet']))\n",
    "print('Tweet cleaned:\\n{}'.format(df.loc[1, 'tweets_clean']))\n",
    "print('Tweet tokens:\\n{}'.format(X_tokens[1]))"
   ]
  },
  {
   "cell_type": "markdown",
   "metadata": {
    "deletable": false,
    "editable": false,
    "nbgrader": {
     "cell_type": "markdown",
     "checksum": "57547e3f5d171f80dab1af42c9f8f80f",
     "grade": false,
     "grade_id": "cell-9babe42ebb6c8e38",
     "locked": true,
     "schema_version": 3,
     "solution": false,
     "task": false
    }
   },
   "source": [
    "### Create the dictionary\n",
    "\n",
    "Up to this point, we have transformed the raw text collection in a list of documents stored in `X_tokens`, where each document is a collection \n",
    "of the words that are most relevant for semantic analysis. Now, we need to convert these data (a list of token lists) into \n",
    "a numerical representation (a list of vectors, or a matrix). To do so, we will start using the tools provided by the `gensim` library. \n",
    "\n",
    "As a first step, we create a dictionary containing all tokens in our text corpus, and assigning an integer identifier to each one of them.\n",
    "\n"
   ]
  },
  {
   "cell_type": "code",
   "execution_count": 6,
   "metadata": {
    "deletable": false,
    "editable": false,
    "nbgrader": {
     "cell_type": "code",
     "checksum": "7e118cc12b088a58549162692e078aed",
     "grade": false,
     "grade_id": "cell-094b6259bcd24f60",
     "locked": true,
     "schema_version": 3,
     "solution": false,
     "task": false
    },
    "pycharm": {
     "is_executing": false,
     "name": "#%%\n"
    }
   },
   "outputs": [
    {
     "name": "stdout",
     "output_type": "stream",
     "text": [
      "Dictionary(120 unique tokens: ['look', 'peopl', 'woman', 'love', 'work']...)\n"
     ]
    }
   ],
   "source": [
    "dictionary = gensim.corpora.Dictionary(X_tokens)\n",
    "dictionary.filter_extremes(no_below=15, no_above=0.5, keep_n=I)\n",
    "\n",
    "print(dictionary)"
   ]
  },
  {
   "cell_type": "markdown",
   "metadata": {
    "deletable": false,
    "editable": false,
    "nbgrader": {
     "cell_type": "markdown",
     "checksum": "b8c4022a04c421466f5a9a40be40b88e",
     "grade": false,
     "grade_id": "cell-112889c986893683",
     "locked": true,
     "schema_version": 3,
     "solution": false,
     "task": false
    }
   },
   "source": [
    "### Create Bag of Words (BoW): Numerical version of documents\n",
    "In the second step, let us create a numerical version of our corpus using the `doc2bow` method. In general, \n",
    "`D.doc2bow(token_list)` transforms any list of tokens into a list of tuples `(token_id, n)`, one per each token in \n",
    "`token_list`, where `token_id` is the token identifier (according to dictionary `D`) and `n` is the number of occurrences \n",
    "of such token in `token_list`. \n",
    "\n",
    "Now we apply the `doc2bow` method from gensim dictionary `D`, to all tokens in every document in `X_tokens`. \n",
    "The result is a new list named `X_bow` where each element is a list of tuples `(token_id, number_of_occurrences)`."
   ]
  },
  {
   "cell_type": "code",
   "execution_count": 7,
   "metadata": {
    "deletable": false,
    "editable": false,
    "nbgrader": {
     "cell_type": "code",
     "checksum": "50b0fb9b05e13e2417bb94521a250f83",
     "grade": false,
     "grade_id": "cell-800d261f82f957b1",
     "locked": true,
     "schema_version": 3,
     "solution": false,
     "task": false
    },
    "pycharm": {
     "is_executing": false,
     "name": "#%%\n"
    }
   },
   "outputs": [
    {
     "data": {
      "text/plain": [
       "[[(0, 1), (1, 1), (2, 1)],\n",
       " [(6, 1), (7, 1)],\n",
       " [(3, 2), (9, 1)],\n",
       " [(10, 1), (11, 1)],\n",
       " [(11, 1), (12, 1), (13, 1), (14, 1)]]"
      ]
     },
     "execution_count": 7,
     "metadata": {},
     "output_type": "execute_result"
    }
   ],
   "source": [
    "X_bow = list()\n",
    "keep_tweet = list()\n",
    "for tweet in X_tokens:\n",
    "    tweet_bow = dictionary.doc2bow(tweet)\n",
    "    if len(tweet_bow) > 1:\n",
    "        X_bow.append(tweet_bow)\n",
    "        \n",
    "    keep_tweet.append(len(tweet_bow) > 1)\n",
    "\n",
    "df_data = df[keep_tweet]\n",
    "\n",
    "N = len(df_data)\n",
    "\n",
    "X_bow[:5]"
   ]
  },
  {
   "cell_type": "markdown",
   "metadata": {
    "deletable": false,
    "editable": false,
    "nbgrader": {
     "cell_type": "markdown",
     "checksum": "1a419ea326a4e34d5b2cf779355a6eb7",
     "grade": false,
     "grade_id": "cell-7b1d5ccb8a03f9af",
     "locked": true,
     "schema_version": 3,
     "solution": false,
     "task": false
    }
   },
   "source": [
    "Finally, we transform the BoW representation `X_bow` into a matrix, `X_matrix`, in which the i-th row and j-th column represents the \n",
    "number of occurrences of the j-th word of the dictionary in the i-th document. This will be the matrix used in the algorithm."
   ]
  },
  {
   "cell_type": "code",
   "execution_count": 8,
   "metadata": {
    "deletable": false,
    "editable": false,
    "nbgrader": {
     "cell_type": "code",
     "checksum": "c030c8e74d1490335740a7f75bec3da4",
     "grade": false,
     "grade_id": "cell-c43d662d129c8f13",
     "locked": true,
     "schema_version": 3,
     "solution": false,
     "task": false
    },
    "pycharm": {
     "is_executing": false,
     "name": "#%%\n"
    }
   },
   "outputs": [
    {
     "name": "stdout",
     "output_type": "stream",
     "text": [
      "[[1. 1. 1. ... 0. 0. 0.]\n",
      " [0. 0. 0. ... 0. 0. 0.]\n",
      " [0. 0. 0. ... 0. 0. 0.]\n",
      " ...\n",
      " [0. 0. 0. ... 0. 0. 0.]\n",
      " [0. 0. 0. ... 0. 0. 0.]\n",
      " [0. 0. 2. ... 0. 0. 0.]]\n"
     ]
    }
   ],
   "source": [
    "X_matrix = np.zeros([N, I])\n",
    "for i, doc_bow in enumerate(X_bow):\n",
    "    word_list = list()\n",
    "    for word in doc_bow:\n",
    "        X_matrix[i, word[0]] = word[1]\n",
    "        \n",
    "print(X_matrix)"
   ]
  },
  {
   "cell_type": "markdown",
   "metadata": {
    "deletable": false,
    "editable": false,
    "nbgrader": {
     "cell_type": "markdown",
     "checksum": "6b2aab053d6c06b33ab128ca91d97fad",
     "grade": false,
     "grade_id": "cell-2624b9fb86f56a1b",
     "locked": true,
     "schema_version": 3,
     "solution": false,
     "task": false
    }
   },
   "source": [
    "## 3. Categorical Mixture Model with Expectation Maximization"
   ]
  },
  {
   "cell_type": "markdown",
   "metadata": {
    "deletable": false,
    "editable": false,
    "nbgrader": {
     "cell_type": "markdown",
     "checksum": "e07152ee127e115e44427065a60b5f37",
     "grade": false,
     "grade_id": "cell-84bb64ca781318b8",
     "locked": true,
     "schema_version": 3,
     "solution": false,
     "task": false
    }
   },
   "source": [
    "### Exercise 1: Analytical forms of the E and M steps for the EM-Algorithm\n",
    "1. Write the joint distribution: $p(\\{\\mathbf{x}_n, z_n\\}| \\Theta) = \\dots$\n",
    "2. Write the analytical expression for $Q(\\Theta, \\Theta^{\\text{old}}) = \\dots$\n",
    "3. Write the MLE for $\\Theta$."
   ]
  },
  {
   "cell_type": "markdown",
   "metadata": {
    "deletable": false,
    "editable": false,
    "nbgrader": {
     "cell_type": "markdown",
     "checksum": "5869b9d0b174b001a2004ed4f022d4bb",
     "grade": false,
     "grade_id": "cell-5e27968f118b2ca8",
     "locked": true,
     "schema_version": 3,
     "solution": false,
     "task": false
    }
   },
   "source": [
    "1.\n",
    "\n",
    "$p(\\{\\mathbf{x}_n, z_n\\}| \\Theta) = \\dots$"
   ]
  },
  {
   "cell_type": "markdown",
   "metadata": {
    "deletable": false,
    "nbgrader": {
     "cell_type": "markdown",
     "checksum": "4f0b1af2f9ea24b798a3f1925c5e8d2e",
     "grade": true,
     "grade_id": "cell-a5033b9e7fba2c5d",
     "locked": false,
     "points": 0,
     "schema_version": 3,
     "solution": true,
     "task": false
    }
   },
   "source": [
    "YOUR ANSWER HERE"
   ]
  },
  {
   "cell_type": "markdown",
   "metadata": {},
   "source": [
    "\\begin{aligned}\n",
    "l_{c}\\left(\\boldsymbol{\\pi},\\left\\{\\boldsymbol{\\theta}_{k}\\right\\}\\right) &=\\log p\\left(\\left\\{\\mathbf{x}_{n}\\right\\}_{n=1}^{N}, \\mathbf{z} \\mid \\boldsymbol{\\pi},\\left\\{\\boldsymbol{\\theta}_{k}\\right\\}\\right)=\\sum_{n=1}^{N} \\log \\left(p\\left(\\mathbf{x}_{n} \\mid z_{n},\\left\\{\\boldsymbol{\\theta}_{k}\\right\\}\\right) p\\left(z_{n} \\mid \\boldsymbol{\\pi}\\right)\\right)=\\sum_{n=1}^{N} \\log \\left(\\prod_{k=1}^{K}\\left(p\\left(z_{n}=k\\right) p\\left(\\mathbf{x}_{n} \\mid \\boldsymbol{\\theta}_{k}\\right)\\right)^{\\left[z_{n}=k\\right]}\\right) \\\\\n",
    "&=\\sum_{n=1}^{N} \\log \\left(\\prod_{k=1}^{K}\\left(\\pi_{k} p\\left(\\mathbf{x}_{n} \\mid \\boldsymbol{\\theta}_{k}\\right)\\right)^{\\left[z_{n}=k\\right]}\\right)=\\sum_{n=1}^{N} \\sum_{k=1}^{K}\\left[z_{n}=k\\right] \\log \\left(\\pi_{k} p\\left(\\mathbf{x}_{n} \\mid \\boldsymbol{\\theta}_{k}\\right)\\right)\n",
    "\\end{aligned}"
   ]
  },
  {
   "cell_type": "markdown",
   "metadata": {},
   "source": [
    "Re-Writing hte Expression for $p\\left(\\mathbf{x}_{n} \\mid \\boldsymbol{\\theta}_{k}\\right)=\\prod_{j=1}^{W_{n}} \\operatorname{Cat}\\left(x_{n j} \\mid \\boldsymbol{\\theta}_{k}\\right)$"
   ]
  },
  {
   "cell_type": "markdown",
   "metadata": {},
   "source": [
    "$\\begin{aligned} l_{c}\\left(\\boldsymbol{\\pi},\\left\\{\\boldsymbol{\\theta}_{k}\\right\\}\\right) &=\\sum_{n=1}^{N} \\sum_{k=1}^{K}\\left[z_{n}=k\\right] \\log \\left(\\pi_{k} \\prod_{j=1}^{W_{n}} \\operatorname{Cat}\\left(x_{n j} \\mid \\boldsymbol{\\theta}_{k}\\right)\\right)=\\sum_{n=1}^{N} \\sum_{k=1}^{K}\\left[z_{n}=k\\right] \\log \\left(\\pi_{k} \\prod_{j=1}^{W_{n}} \\prod_{m=1}^{I} \\theta_{k m}^{\\left[x_{n j}=m\\right]}\\right) \\\\ &=\\sum_{n=1}^{N} \\sum_{k=1}^{K}\\left[z_{n}=k\\right] \\log \\left(\\pi_{k}\\right)+\\sum_{n=1}^{N} \\sum_{k=1}^{K} \\sum_{j=1}^{W_{n}} \\sum_{m=1}^{I}\\left[z_{n}=k\\right] \\log \\left(\\theta_{k m}^{\\left[x_{n} j=m\\right]}\\right) \\end{aligned}$"
   ]
  },
  {
   "cell_type": "markdown",
   "metadata": {},
   "source": [
    "Now expression of the complete data log-likelihood is"
   ]
  },
  {
   "cell_type": "markdown",
   "metadata": {},
   "source": [
    "$l_{c}\\left(\\pi,\\left\\{\\boldsymbol{\\theta}_{k}\\right\\}\\right)=\\sum_{n=1}^{N} \\sum_{k=1}^{K}\\left[z_{n}=k\\right] \\log \\left(\\pi_{k}\\right)+\\sum_{n=1}^{N} \\sum_{k=1}^{K} \\sum_{j=1}^{W_{n}} \\sum_{m=1}^{I}\\left[z_{n}=k\\right]\\left[x_{n j}=m\\right] \\log \\left(\\theta_{k m}\\right)$"
   ]
  },
  {
   "cell_type": "markdown",
   "metadata": {
    "deletable": false,
    "editable": false,
    "nbgrader": {
     "cell_type": "markdown",
     "checksum": "8da9f604054541dd53bb957db060e84b",
     "grade": false,
     "grade_id": "cell-c422dc9b21697187",
     "locked": true,
     "schema_version": 3,
     "solution": false,
     "task": false
    }
   },
   "source": [
    "\n",
    "\n",
    "2.\n",
    "\n",
    "$Q(\\Theta, \\Theta^{\\text{old}}) = \\dots$"
   ]
  },
  {
   "cell_type": "markdown",
   "metadata": {
    "deletable": false,
    "nbgrader": {
     "cell_type": "markdown",
     "checksum": "ef7b4ea0a049aa381dfd21108b3076b1",
     "grade": true,
     "grade_id": "cell-5e6b25ffcb946c88",
     "locked": false,
     "points": 0,
     "schema_version": 3,
     "solution": true,
     "task": false
    }
   },
   "source": [
    "YOUR ANSWER HERE"
   ]
  },
  {
   "cell_type": "markdown",
   "metadata": {},
   "source": [
    "$Q\\left(\\theta, \\theta^{\\mathrm{old}}\\right)=\\sum_{n=1}^{N} \\sum_{k=1}^{K} E\\left[\\left[z_{n}=k\\right]\\right] \\log \\left(x_{k}\\right)+\\sum_{n=1}^{N} \\sum_{k=1}^{K} \\sum_{j=1}^{W_{n}} \\sum_{m=1}^{I} E\\left[\\left[z_{n}=k\\right]\\right]\\left[x_{n j}=m\\right] \\log \\left(\\theta_{k m}\\right)$"
   ]
  },
  {
   "cell_type": "markdown",
   "metadata": {},
   "source": [
    "Computing $$\n",
    "E\\left\\|_{n}=k\\right\\|=p\\left(z_{n}=k \\mid \\mathbf{x}_{n}, \\boldsymbol{\\theta}^{\\text {old }}\\right)\n",
    "$$ using Bayes THeorem"
   ]
  },
  {
   "cell_type": "markdown",
   "metadata": {},
   "source": [
    "$$\n",
    "p\\left(z_{n}=k \\mid \\mathbf{x}_{n}, \\boldsymbol{\\theta}^{\\text {old }}\\right)=\\frac{p\\left(z_{n}=k, \\mathbf{x}_{n} \\mid \\boldsymbol{\\theta}^{\\text {old }}\\right)}{p\\left(\\mathbf{x}_{n} \\mid \\boldsymbol{\\theta}^{\\text {old }}\\right)}=\\frac{\\pi_{k} \\prod_{j=1}^{W_{n}} \\operatorname{Cat}\\left(x_{n j} \\mid \\boldsymbol{\\theta}_{k}\\right)}{\\sum_{k^{\\prime}=1}^{K} \\pi_{k^{\\prime}} \\prod_{j=1}^{W_{n}} \\operatorname{Cat}\\left(x_{n j} \\mid \\boldsymbol{\\theta}_{k^{\\prime}}\\right)}=r_{n k}\n",
    "$$"
   ]
  },
  {
   "cell_type": "markdown",
   "metadata": {},
   "source": [
    "Complete data log-likelihood"
   ]
  },
  {
   "cell_type": "markdown",
   "metadata": {},
   "source": [
    "$$\n",
    "Q\\left(\\theta, \\theta^{\\mathrm{old}}\\right)=\\sum_{n=1}^{N} \\sum_{k=1}^{K} r_{n k} \\log \\left(\\pi_{k}\\right)+\\sum_{n=1}^{N} \\sum_{k=1}^{K} \\sum_{j=1}^{W_{n}} \\sum_{m=1}^{I} r_{n k}\\left[x_{n j}=m\\right] \\log \\left(\\theta_{k m}\\right)\n",
    "$$"
   ]
  },
  {
   "cell_type": "markdown",
   "metadata": {},
   "source": [
    "Taking $$ r_{n k}$$ outside ans summing $$ x_{n j}$$"
   ]
  },
  {
   "cell_type": "markdown",
   "metadata": {},
   "source": [
    "$$\n",
    "\\left.Q\\left(\\theta, \\theta^{\\text {old }}\\right)=\\sum_{n=1}^{N} \\sum_{k=1}^{K} r_{n k} \\log \\left(\\pi_{k}\\right)+\\sum_{n=1}^{N} \\sum_{k=1}^{K} r_{n k} \\sum_{j=1}^{W_{n}} \\sum_{m=1}^{I} \\mid x_{n j}=m\\right] \\log \\left(\\theta_{k m}\\right)\n",
    "$$"
   ]
  },
  {
   "cell_type": "markdown",
   "metadata": {
    "deletable": false,
    "editable": false,
    "nbgrader": {
     "cell_type": "markdown",
     "checksum": "8f0d085fca9ab7b4ad51ee5136435c02",
     "grade": false,
     "grade_id": "cell-03c1e1b8b296a402",
     "locked": true,
     "schema_version": 3,
     "solution": false,
     "task": false
    }
   },
   "source": [
    "\n",
    "3. \n",
    "\n",
    "\n",
    "$\\pi^{ML} = \\dots$\n",
    "\n",
    "$\\theta^{ML} = \\dots$."
   ]
  },
  {
   "cell_type": "markdown",
   "metadata": {
    "deletable": false,
    "nbgrader": {
     "cell_type": "markdown",
     "checksum": "44107b9bca16dcddf32db2b14bbbd149",
     "grade": true,
     "grade_id": "cell-5b39637c2a930d13",
     "locked": false,
     "points": 0,
     "schema_version": 3,
     "solution": true,
     "task": false
    }
   },
   "source": [
    "To find $\\pi^{ML}$ we need to consider Langrange multiplier with condition $\\sum_{k} \\pi_k = 1$\\\n",
    "Hence we need to find $\\frac{dQ(\\theta, \\theta^{old})}{d\\pi_{k}} = \\sum_{n=1}^{N} \\sum_{k=1}^{K} r_{n k} \\log (\\pi_{k})+\\sum_{n=1}^{N} \\sum_{k=1}^{K} r_{n k} \\sum_{j=1}^{W_{n}} \\sum_{m=1}^{I} [x_{n j}=m] \\log (\\theta_{k m})  + \\lambda(\\sum_{k} \\pi_{k} - 1) $\n",
    "\n",
    "$\\frac{dQ(\\theta, \\theta^{old})}{d\\pi_{k}} = \\sum_{n=1}^{N} \\frac{r_{nk}}{\\pi_{k}} + \\lambda$\n",
    "\n",
    "Now considering $\\frac{dQ(\\theta, \\theta^{old})}{d\\pi_{k}} = 0 $\\\n",
    "$\\sum_{n=1}^{N} \\frac{r_{nk}}{-\\lambda} = \\pi_{k}$\\\n",
    "Now applying the the condition $\\sum_{k} \\pi_{k} = 1$\\\n",
    "Hence we get $ - \\lambda = \\sum_{k} \\sum_{n} r_{nk}$\n",
    "\n",
    "So we get $\\pi_{k}^{ML} = \\frac{\\sum_{n} r_{nk}}{\\sum_{k} \\sum_{n} r_{nk}}$\n",
    "\n",
    "In a similar manner to find $\\theta^{ML}$ we need to consider the condition that $\\sum_{m}\\theta_{km} = 1$\n",
    "\n",
    "Hence we need to find $\\frac{dQ(\\theta, \\theta^{old})}{d\\theta_{km}} = \\sum_{n=1}^{N} \\sum_{k=1}^{K} r_{n k} \\log (\\pi_{k})+\\sum_{n=1}^{N} \\sum_{k=1}^{K} r_{n k} \\sum_{j=1}^{W_{n}} \\sum_{m=1}^{I} [x_{n j}=m] \\log (\\theta_{k m})  + \\lambda(\\sum_{m}\\theta_{km} - 1) $\n",
    "\n",
    "$\\frac{dQ(\\theta, \\theta^{old})}{d\\theta_{km}} = \\sum_{n=1}^{N} r_{nk} \\sum_{j} \\frac{[X_{nj} = m]}{\\theta_{km}} + \\lambda$\\\n",
    "Now considering $\\frac{dQ(\\theta, \\theta^{old})}{d\\theta_{km}} = 0 $\\\n",
    "$\\sum_{n=1}^{N} r_{nk} \\sum_{j} \\frac{[X_{nj} = m]}{-\\lambda} = \\theta_{km}$\n",
    "\n",
    "Now applying the the condition $\\sum_{m}\\theta_{km} = 1$\\\n",
    "Hence we get $ - \\lambda = \\sum_{m} \\sum_{n} r_{nk} \\sum_{j} [X_{nj} = m] $\n",
    "\n",
    "So we get $\\theta_{km}^{ML} = \\frac{\\sum_{n} r_{nk} \\sum_{j} [X_{nj} = m]}{\\sum_{m} \\sum_{n} r_{nk} \\sum_{j} [X_{nj} = m]}$\n",
    "\n",
    "\n",
    "\n",
    "\n",
    "\n",
    "\n"
   ]
  },
  {
   "cell_type": "code",
   "execution_count": 9,
   "metadata": {
    "deletable": false,
    "editable": false,
    "nbgrader": {
     "cell_type": "code",
     "checksum": "768afa257b26fa5f40a8506582c98803",
     "grade": false,
     "grade_id": "cell-a87e75c3f293677e",
     "locked": true,
     "schema_version": 3,
     "solution": false,
     "task": false
    },
    "pycharm": {
     "is_executing": false
    }
   },
   "outputs": [],
   "source": [
    "np.random.seed(1234)\n",
    "pi_vector = 1 / K * np.ones([1, K])\n",
    "theta_matrix =  np.random.dirichlet(1. * np.ones(I), size=K)  # [K, I]\n",
    "z_matrix_index = np.random.choice(K, size=N)\n",
    "z_matrix =np.eye(K)[z_matrix_index]  "
   ]
  },
  {
   "cell_type": "markdown",
   "metadata": {},
   "source": [
    "We provide you with the implementation of the  log likelihood function $p(X| \\Theta$)"
   ]
  },
  {
   "cell_type": "code",
   "execution_count": 10,
   "metadata": {},
   "outputs": [],
   "source": [
    "def log_p_x(X, pi_vector, theta_matrix, agg=True):\n",
    "    \"\"\"\n",
    "    log p(x|theta) as in the first equation of the tutorial script\n",
    "    \"\"\"\n",
    "    log_pi_vector = np.log(pi_vector)\n",
    "    log_x_nk = np.einsum('ni,ki->nk', X, np.log(theta_matrix))\n",
    "    if agg:\n",
    "        return scipy.special.logsumexp(log_pi_vector + log_x_nk, axis=1).sum()\n",
    "    else:\n",
    "        return scipy.special.logsumexp(log_pi_vector + log_x_nk, axis=1)"
   ]
  },
  {
   "cell_type": "markdown",
   "metadata": {
    "deletable": false,
    "editable": false,
    "nbgrader": {
     "cell_type": "markdown",
     "checksum": "5b6eeb803511c2255b34b540874ff66c",
     "grade": false,
     "grade_id": "cell-489aae951f71e698",
     "locked": true,
     "schema_version": 3,
     "solution": false,
     "task": false
    }
   },
   "source": [
    "#### Exercise 1.1"
   ]
  },
  {
   "cell_type": "code",
   "execution_count": 11,
   "metadata": {
    "deletable": false,
    "nbgrader": {
     "cell_type": "code",
     "checksum": "f227ee6a50fd94451908948535601a6e",
     "grade": false,
     "grade_id": "cell-76d2b7d61b268061",
     "locked": false,
     "schema_version": 3,
     "solution": true,
     "task": false
    },
    "pycharm": {
     "is_executing": false,
     "name": "#%%\n"
    }
   },
   "outputs": [],
   "source": [
    "def log_p(X_matrix, z_matrix, pi_vector, theta_matrix) -> float:\n",
    "    '''\n",
    "    Function that returns the value of the log joint distribution $\\log p(\\{\\mathbf{x}_n, z_n\\}| \\Theta)\n",
    "    \n",
    "    :param X_matrix: NxI\n",
    "    :param z_matrix: NxK. One hot encoding\n",
    "    :param pi_vector: 1xK\n",
    "    :param theta_matrix: KxI\n",
    "    '''\n",
    "    log_pi = np.log(pi_vector)\n",
    "    log_like = (z_matrix * log_pi).sum()\n",
    "    log_theta = np.log(theta_matrix)\n",
    "    for n in range(N):\n",
    "        z_n = np.argmax(z_matrix[n])\n",
    "        for i in range(I):\n",
    "            log_like += X_matrix[n][i] * log_theta[z_n][i]            \n",
    "    return log_like"
   ]
  },
  {
   "cell_type": "code",
   "execution_count": 12,
   "metadata": {
    "deletable": false,
    "editable": false,
    "nbgrader": {
     "cell_type": "code",
     "checksum": "8a3320455234552cc481920560c498c7",
     "grade": true,
     "grade_id": "cell-c078ca996bb0d931",
     "locked": true,
     "points": 1,
     "schema_version": 3,
     "solution": false,
     "task": false
    },
    "pycharm": {
     "is_executing": false
    }
   },
   "outputs": [],
   "source": [
    "pi_vector = 1 / K * np.ones([1, K])\n",
    "\n",
    "np.random.seed(1234)\n",
    "theta_matrix =  np.random.dirichlet(1. * np.ones(I), size=K)  # [K, I]\n",
    "z_matrix_index = np.random.choice(K, size=N)\n",
    "z_matrix =np.eye(K)[z_matrix_index]  \n",
    "\n",
    "log_lik = log_p(X_matrix, z_matrix, pi_vector, theta_matrix)\n",
    "\n",
    "assert math.isclose(log_lik, -128901.37, rel_tol=1e-9, abs_tol=0.1)\n"
   ]
  },
  {
   "cell_type": "markdown",
   "metadata": {
    "deletable": false,
    "editable": false,
    "nbgrader": {
     "cell_type": "markdown",
     "checksum": "0d42d419f772b9525a3d6fc7ad04b2d8",
     "grade": false,
     "grade_id": "cell-77501fd6b409f7be",
     "locked": true,
     "schema_version": 3,
     "solution": false,
     "task": false
    }
   },
   "source": [
    "#### Exercise 1.2"
   ]
  },
  {
   "cell_type": "code",
   "execution_count": 13,
   "metadata": {
    "deletable": false,
    "editable": false,
    "nbgrader": {
     "cell_type": "code",
     "checksum": "ada4bec6fcd5d18d8e391643bbac52b9",
     "grade": false,
     "grade_id": "cell-7542295462d26989",
     "locked": true,
     "schema_version": 3,
     "solution": false,
     "task": false
    },
    "pycharm": {
     "is_executing": false
    }
   },
   "outputs": [],
   "source": [
    "def compute_lset(ns):\n",
    "    return scipy.special.logsumexp(ns)"
   ]
  },
  {
   "cell_type": "code",
   "execution_count": 14,
   "metadata": {
    "deletable": false,
    "nbgrader": {
     "cell_type": "code",
     "checksum": "6ec5ba21c9a9bbe5ca00fc8707947859",
     "grade": false,
     "grade_id": "cell-a8efdefc44d048cd",
     "locked": false,
     "schema_version": 3,
     "solution": true,
     "task": false
    },
    "pycharm": {
     "is_executing": false
    }
   },
   "outputs": [],
   "source": [
    "def RIK_matrix(X, pi_vector, theta_matrix) -> np.array:\n",
    "    r_matrix = np.zeros((N, theta_matrix.shape[0]))\n",
    "    for n in range(N):\n",
    "        for k in range(theta_matrix.shape[0]):\n",
    "            temp = theta_matrix[k]**X[n]\n",
    "            r_matrix[n][k] = temp.prod() * pi_vector[0][k]\n",
    "        r_matrix[n] = r_matrix[n] / r_matrix[n].sum() \n",
    "    return r_matrix"
   ]
  },
  {
   "cell_type": "code",
   "execution_count": 15,
   "metadata": {
    "deletable": false,
    "nbgrader": {
     "cell_type": "code",
     "checksum": "1a2c046a0278c3bb8e42004985625b48",
     "grade": false,
     "grade_id": "cell-9110e3d544ed6ca5",
     "locked": false,
     "schema_version": 3,
     "solution": true,
     "task": false
    },
    "pycharm": {
     "is_executing": false
    }
   },
   "outputs": [],
   "source": [
    "def Q_function(X, pi_vector, theta_matrix, r_matrix) -> float:\n",
    "    Q = 0\n",
    "    log_pi = np.log(pi_vector)\n",
    "    log_theta = np.log(theta_matrix)\n",
    "    for n in range(N):\n",
    "        for k in range(theta_matrix.shape[0]):\n",
    "            Q += r_matrix[n][k] * log_pi[0][k]\n",
    "    for n in range(N):\n",
    "        for k in range(theta_matrix.shape[0]):\n",
    "            temp = X[n] * log_theta[k]\n",
    "            Q += temp.sum() * r_matrix[n][k]\n",
    "            \n",
    "    return Q"
   ]
  },
  {
   "cell_type": "code",
   "execution_count": 16,
   "metadata": {
    "pycharm": {
     "is_executing": false
    }
   },
   "outputs": [
    {
     "name": "stdout",
     "output_type": "stream",
     "text": [
      "Q: -114981.98506364766\n"
     ]
    }
   ],
   "source": [
    "pi_vector = 1 / K * np.ones([1, K])\n",
    "\n",
    "np.random.seed(1234)\n",
    "theta_matrix =  np.random.dirichlet(1. * np.ones(I), size=K)  # [K, I]\n",
    "r_matrix = RIK_matrix(X_matrix, pi_vector, theta_matrix)\n",
    "print(f\"Q: {Q_function(X_matrix, pi_vector, theta_matrix, r_matrix)}\")"
   ]
  },
  {
   "cell_type": "code",
   "execution_count": 17,
   "metadata": {
    "deletable": false,
    "editable": false,
    "nbgrader": {
     "cell_type": "code",
     "checksum": "6422a28e054ace30ebffb79efd2261f5",
     "grade": true,
     "grade_id": "cell-94582267bfa12cb9",
     "locked": true,
     "points": 1,
     "schema_version": 3,
     "solution": false,
     "task": false
    },
    "pycharm": {
     "is_executing": false
    }
   },
   "outputs": [],
   "source": [
    "pi_vector = 1 / K * np.ones([1, K])\n",
    "\n",
    "np.random.seed(1234)\n",
    "theta_matrix =  np.random.dirichlet(1. * np.ones(I), size=K)  # [K, I]\n",
    "r_matrix = RIK_matrix(X_matrix, pi_vector, theta_matrix)\n",
    "Q_value = Q_function(X_matrix, pi_vector, theta_matrix, r_matrix)\n",
    "\n",
    "assert math.isclose(Q_value, -114981.98,  abs_tol=0.1)\n",
    "\n",
    "    "
   ]
  },
  {
   "cell_type": "markdown",
   "metadata": {
    "deletable": false,
    "editable": false,
    "nbgrader": {
     "cell_type": "markdown",
     "checksum": "d870cbc606e53459d871fe3bd3fb4a4c",
     "grade": false,
     "grade_id": "cell-76aea0eb201bdebe",
     "locked": true,
     "schema_version": 3,
     "solution": false,
     "task": false
    }
   },
   "source": [
    "#### Exercise 1.3"
   ]
  },
  {
   "cell_type": "code",
   "execution_count": 18,
   "metadata": {
    "deletable": false,
    "nbgrader": {
     "cell_type": "code",
     "checksum": "70fefcc0a94f7f80d7d0677d9ed9b431",
     "grade": false,
     "grade_id": "cell-36c39b84efdc5683",
     "locked": false,
     "schema_version": 3,
     "solution": true,
     "task": false
    },
    "pycharm": {
     "is_executing": false
    }
   },
   "outputs": [],
   "source": [
    "def pi_vector_MLE(X, pi_vector, theta_matrix) -> np.array:\n",
    "    r_matrix = RIK_matrix(X_matrix, pi_vector, theta_matrix)\n",
    "    n_k = np.sum(r_matrix, axis = 0)\n",
    "    return n_k / n_k.sum()\n",
    "\n",
    "def theta_matrix_MLE(X, pi_vector, theta_matrix) -> np.array:\n",
    "    r_matrix = RIK_matrix(X_matrix, pi_vector, theta_matrix)\n",
    "    theta_matrix_mle = np.zeros((theta_matrix.shape[0], I))\n",
    "    for k in range(theta_matrix.shape[0]):\n",
    "        for i in range(I):\n",
    "            temp = r_matrix[:, k] * X[:, i]\n",
    "            theta_matrix_mle[k][i] = temp.sum()\n",
    "            \n",
    "    for k in range(theta_matrix.shape[0]):\n",
    "        theta_matrix_mle[k] = theta_matrix_mle[k] / theta_matrix_mle[k].sum()\n",
    "    \n",
    "    \n",
    "    return theta_matrix_mle\n",
    "    "
   ]
  },
  {
   "cell_type": "code",
   "execution_count": 19,
   "metadata": {
    "deletable": false,
    "editable": false,
    "nbgrader": {
     "cell_type": "code",
     "checksum": "81ef1fe4d6df96aeb05d60588b131aab",
     "grade": false,
     "grade_id": "cell-6af446e7b236251a",
     "locked": true,
     "schema_version": 3,
     "solution": false,
     "task": false
    },
    "pycharm": {
     "is_executing": false
    }
   },
   "outputs": [
    {
     "name": "stdout",
     "output_type": "stream",
     "text": [
      "pi_vector_MLE: [0.2241954  0.23099895 0.13875986 0.23948765 0.16655814]\n",
      "theta_matrix_MLE shape: (5, 120)\n"
     ]
    }
   ],
   "source": [
    "pi_vector = 1 / K * np.ones([1, K])\n",
    "\n",
    "np.random.seed(1234)\n",
    "theta_matrix =  np.random.dirichlet(1. * np.ones(I), size=K)  # [K, I]\n",
    "print(f\"pi_vector_MLE: {pi_vector_MLE(X_matrix, pi_vector, theta_matrix)}\")\n",
    "print(f\"theta_matrix_MLE shape: {theta_matrix_MLE(X_matrix, pi_vector, theta_matrix).shape}\")"
   ]
  },
  {
   "cell_type": "code",
   "execution_count": 20,
   "metadata": {
    "deletable": false,
    "editable": false,
    "nbgrader": {
     "cell_type": "code",
     "checksum": "61f930947cd5363269121e33371ccdf5",
     "grade": true,
     "grade_id": "cell-220bcf418afb3b30",
     "locked": true,
     "points": 1,
     "schema_version": 3,
     "solution": false,
     "task": false
    },
    "pycharm": {
     "is_executing": false
    },
    "scrolled": true
   },
   "outputs": [],
   "source": [
    "pi_vector = 1 / K * np.ones([1, K])\n",
    "\n",
    "np.random.seed(1234)\n",
    "theta_matrix =  np.random.dirichlet(1. * np.ones(I), size=K)  # [K, I]\n",
    "\n",
    "\n",
    "pi_vector_h = pi_vector_MLE(X_matrix, pi_vector, theta_matrix)\n",
    "theta_matrix_h = theta_matrix_MLE(X_matrix, pi_vector, theta_matrix)\n",
    "\n",
    "\n",
    "pi_vector_true = [0.2241954,  0.23099895, 0.13875986, 0.23948765, 0.16655814]\n",
    "theta_matrix_dim_0_true = [0.00962201, 0.03075357, 0.00012886, 0.01882288, 0.00776862]\n",
    "assert all([ math.isclose(i,j ,abs_tol=0.01) for i, j in zip (pi_vector_h,pi_vector_true)])\n",
    "assert all([ math.isclose(i,j ,abs_tol=0.01) for i, j in zip (theta_matrix_h[:,0] ,theta_matrix_dim_0_true)])\n",
    "\n"
   ]
  },
  {
   "cell_type": "markdown",
   "metadata": {
    "deletable": false,
    "editable": false,
    "nbgrader": {
     "cell_type": "markdown",
     "checksum": "03eae13598082442a4618f312e3ce0d8",
     "grade": false,
     "grade_id": "cell-81bec067cd4cca5e",
     "locked": true,
     "schema_version": 3,
     "solution": false,
     "task": false
    }
   },
   "source": [
    "### Exercise 2: Implement the EM-Algorithm for the CMM  on Twitter data\n",
    "#### Exercise 2.1"
   ]
  },
  {
   "cell_type": "code",
   "execution_count": 21,
   "metadata": {
    "deletable": false,
    "nbgrader": {
     "cell_type": "code",
     "checksum": "95da7ff155b3ca44b0d50bedf432ec10",
     "grade": false,
     "grade_id": "cell-20a2de1de362f003",
     "locked": false,
     "schema_version": 3,
     "solution": true,
     "task": false
    }
   },
   "outputs": [],
   "source": [
    "\n",
    "def BIC(log_like, K, I, N) -> float:\n",
    "    bic = (K + I * K) * np.log(N) - 2 * log_like \n",
    "    return bic\n",
    "\n",
    "def AIC(log_like, K, I) -> float:\n",
    "    aic = 2 * (K + I * K) - 2 * log_like\n",
    "    return aic"
   ]
  },
  {
   "cell_type": "code",
   "execution_count": 22,
   "metadata": {
    "deletable": false,
    "editable": false,
    "nbgrader": {
     "cell_type": "code",
     "checksum": "b39cdd99d9dec483aeded4d40ff93d21",
     "grade": true,
     "grade_id": "cell-8f6f5788e9e637ea",
     "locked": true,
     "points": 1,
     "schema_version": 3,
     "solution": false,
     "task": false
    },
    "pycharm": {
     "is_executing": false
    }
   },
   "outputs": [
    {
     "name": "stdout",
     "output_type": "stream",
     "text": [
      "BIC: 225766.5360757403 AIC: 221758.53739852167\n"
     ]
    }
   ],
   "source": [
    "pi_vector = 1 / K * np.ones([1, K])\n",
    "\n",
    "np.random.seed(1234)\n",
    "theta_matrix =  np.random.dirichlet(1. * np.ones(I), size=K)  # [K, I]\n",
    "\n",
    "log_lik = log_p_x(X_matrix, pi_vector, theta_matrix)\n",
    "bic = BIC(log_lik, K, I, N)\n",
    "aic = AIC(log_lik, K, I)\n",
    "print(f\"BIC: {bic} AIC: {aic}\")\n",
    "\n",
    "assert  math.isclose(bic, 225766.5360757403, abs_tol=0.1)\n",
    "assert  math.isclose(aic, 221758.53739852167, abs_tol=0.1)\n"
   ]
  },
  {
   "cell_type": "markdown",
   "metadata": {
    "deletable": false,
    "editable": false,
    "nbgrader": {
     "cell_type": "markdown",
     "checksum": "410da58368241b221027338db9dc8181",
     "grade": false,
     "grade_id": "cell-87f98b9dd9285ba2",
     "locked": true,
     "schema_version": 3,
     "solution": false,
     "task": false
    }
   },
   "source": [
    "#### Exercise 2.2"
   ]
  },
  {
   "cell_type": "code",
   "execution_count": 23,
   "metadata": {
    "deletable": false,
    "nbgrader": {
     "cell_type": "code",
     "checksum": "f53192481d206de6d98be1bf2d629d83",
     "grade": false,
     "grade_id": "cell-ee836e5fdd6c5122",
     "locked": false,
     "schema_version": 3,
     "solution": true,
     "task": false
    },
    "pycharm": {
     "is_executing": false
    }
   },
   "outputs": [],
   "source": [
    "def E_step(X, pi_vector, theta_matrix) -> Tuple[np.array, np.array]:\n",
    "    r_matrix = RIK_matrix(X, pi_vector, theta_matrix)\n",
    "    Q = Q_function(X, pi_vector, theta_matrix, r_matrix)\n",
    "    return Q, r_matrix "
   ]
  },
  {
   "cell_type": "code",
   "execution_count": 24,
   "metadata": {
    "deletable": false,
    "nbgrader": {
     "cell_type": "code",
     "checksum": "040158a783a01bebb89ae7f3ab2a44f9",
     "grade": false,
     "grade_id": "cell-bc3b04a45360fad0",
     "locked": false,
     "schema_version": 3,
     "solution": true,
     "task": false
    },
    "pycharm": {
     "is_executing": false
    }
   },
   "outputs": [],
   "source": [
    "def M_step(X, r_matrix) -> Tuple[np.array, np.array]:\n",
    "    n_k = np.sum(r_matrix, axis = 0)\n",
    "    pi_vector = n_k / n_k.sum()\n",
    "    theta_matrix = np.zeros((r_matrix.shape[1], I))\n",
    "    for k in range(r_matrix.shape[1]):\n",
    "        for i in range(I):\n",
    "            temp = r_matrix[:, k] * X[:, i]\n",
    "            theta_matrix[k][i] = temp.sum()\n",
    "            \n",
    "    for k in range(r_matrix.shape[1]):\n",
    "        theta_matrix[k] = theta_matrix[k] / theta_matrix[k].sum()\n",
    "    \n",
    "    return [pi_vector], theta_matrix"
   ]
  },
  {
   "cell_type": "markdown",
   "metadata": {
    "deletable": false,
    "editable": false,
    "nbgrader": {
     "cell_type": "markdown",
     "checksum": "3258eaa41f73fa3497b2caaad7146f6a",
     "grade": false,
     "grade_id": "cell-301d800e607c148f",
     "locked": true,
     "schema_version": 3,
     "solution": false,
     "task": false
    }
   },
   "source": [
    "#### Exercise 2.3"
   ]
  },
  {
   "cell_type": "code",
   "execution_count": 25,
   "metadata": {
    "deletable": false,
    "editable": false,
    "nbgrader": {
     "cell_type": "code",
     "checksum": "97a9726de53a272b7c4e5b7f9f97aa47",
     "grade": false,
     "grade_id": "cell-1ee237cdaee9b6aa",
     "locked": true,
     "schema_version": 3,
     "solution": false,
     "task": false
    }
   },
   "outputs": [],
   "source": [
    "def fit_CMM(X, theta_matrix_init, pi_vector_init, num_epochs, delta=0.01) -> Tuple[np.array, np.array, list, float, float, int]:\n",
    "    N, I = X.shape\n",
    "    K, _ = theta_matrix_init.shape\n",
    "    \n",
    "    theta_matrix = theta_matrix_init\n",
    "    pi_vector = pi_vector_init\n",
    "\n",
    "    prev_log_px = float('-inf')\n",
    "    log_px_list = []\n",
    "    for epoch in range(num_epochs):\n",
    "        _, r_matrix = E_step(X, pi_vector, theta_matrix)\n",
    "        pi_vector, theta_matrix = M_step(X, r_matrix)\n",
    "        log_px = log_p_x(X_matrix, pi_vector, theta_matrix)\n",
    "        diff = log_px - prev_log_px\n",
    "        log_px_list.append(log_px)\n",
    "        prev_log_px = log_px\n",
    "        if (diff < delta):\n",
    "            print(f'ITER {str(epoch)}: log_px = {str(np.around(log_px, 4))} diff = {str(np.around(diff, 4))}')\n",
    "            break\n",
    "            \n",
    "        if epoch % 10 == 0:\n",
    "            print(f'ITER {str(epoch)}: log_px = {str(np.around(log_px, 4))} diff = {str(np.around(diff, 4))}')\n",
    "\n",
    "    BIC_tr = BIC(log_px_list[-1], K, I, N)\n",
    "    AIC_tr = AIC(log_px_list[-1],K, I)\n",
    "    return pi_vector, theta_matrix, log_px_list, BIC_tr, AIC_tr, epoch"
   ]
  },
  {
   "cell_type": "code",
   "execution_count": 26,
   "metadata": {
    "deletable": false,
    "editable": false,
    "nbgrader": {
     "cell_type": "code",
     "checksum": "8850f268991c0462c1b0c893d18e855d",
     "grade": true,
     "grade_id": "cell-33e623670afcf0eb",
     "locked": true,
     "points": 1,
     "schema_version": 3,
     "solution": false,
     "task": false
    },
    "pycharm": {
     "name": "#%%\n"
    }
   },
   "outputs": [
    {
     "name": "stdout",
     "output_type": "stream",
     "text": [
      "ITER 0: log_px = -102684.2752 diff = inf\n",
      "ITER 10: log_px = -100206.6843 diff = 123.497\n",
      "ITER 14: log_px = -99791.5806 diff = 96.3235\n",
      "Last log_px: -99791.58059258852\n"
     ]
    }
   ],
   "source": [
    "K = 5 # Number of mixture components\n",
    "np.random.seed(1234)\n",
    "pi_vector = 1 / K * np.ones([1, K])\n",
    "theta_matrix =  np.random.dirichlet(1. * np.ones(I), size=K)  # [K, I]\n",
    "\n",
    "\n",
    "pi_vector, theta_matrix, log_px_list, BIC_tr, AIC_tr, epoch = fit_CMM(X=X_matrix, \n",
    "                                                                  theta_matrix_init=theta_matrix, \n",
    "                                                                  pi_vector_init=pi_vector, \n",
    "                                                                  num_epochs=100,\n",
    "                                                                  delta=100)\n",
    "\n",
    "print(f'Last log_px: {log_px_list[-1]}')\n",
    "assert math.isclose(log_px_list[-1], -99791.58059258852,abs_tol=100)\n"
   ]
  },
  {
   "cell_type": "code",
   "execution_count": 27,
   "metadata": {},
   "outputs": [
    {
     "data": {
      "text/plain": [
       "Text(0, 0.5, '$log p(X|\\\\Theta)$')"
      ]
     },
     "execution_count": 27,
     "metadata": {},
     "output_type": "execute_result"
    },
    {
     "data": {
      "image/png": "[encoded data removed]",
      "text/plain": [
       "<Figure size 432x288 with 1 Axes>"
      ]
     },
     "metadata": {
      "needs_background": "light"
     },
     "output_type": "display_data"
    }
   ],
   "source": [
    "import matplotlib.pyplot as plt\n",
    "data = plt.plot(log_px_list)\n",
    "plt.xlabel('Iterations')\n",
    "plt.ylabel('$log p(X|\\Theta)$')"
   ]
  },
  {
   "cell_type": "markdown",
   "metadata": {
    "deletable": false,
    "editable": false,
    "nbgrader": {
     "cell_type": "markdown",
     "checksum": "0d474c52b0b007a3ceb30ea7cfaf80a6",
     "grade": false,
     "grade_id": "cell-180c82923f6e036b",
     "locked": true,
     "schema_version": 3,
     "solution": false,
     "task": false
    }
   },
   "source": [
    "#### Exercise 2.4"
   ]
  },
  {
   "cell_type": "code",
   "execution_count": 28,
   "metadata": {
    "deletable": false,
    "nbgrader": {
     "cell_type": "code",
     "checksum": "a68a51722d617f447d1cd941ccbf0461",
     "grade": false,
     "grade_id": "cell-b1aafcc8c6c1ba78",
     "locked": false,
     "schema_version": 3,
     "solution": true,
     "task": false
    }
   },
   "outputs": [],
   "source": [
    "def find_best_K(K_list, num_epochs, delta) -> Tuple[float, float]:\n",
    "    res = []\n",
    "    log_list = []\n",
    "    for k in K_list:\n",
    "        pi_vector = 1 / k * np.ones([1, k])\n",
    "        theta_matrix =  np.random.dirichlet(1. * np.ones(I), size=k)  # [K, I]\n",
    "        _, _, _, _, AIC_tr, _ = fit_CMM(X = X_matrix, theta_matrix_init = theta_matrix, pi_vector_init=pi_vector,\n",
    "                                        num_epochs=num_epochs,delta=delta)\n",
    "        res.append(AIC_tr)\n",
    "    K_best = res[np.argmin(res)]\n",
    "    AIC_best = np.min(res)\n",
    "    return AIC_best, K_best"
   ]
  },
  {
   "cell_type": "code",
   "execution_count": 29,
   "metadata": {},
   "outputs": [
    {
     "name": "stdout",
     "output_type": "stream",
     "text": [
      "ITER 0: log_px = -103012.718 diff = inf\n",
      "ITER 7: log_px = -101707.9442 diff = 48.5529\n",
      "ITER 0: log_px = -102687.7737 diff = inf\n",
      "ITER 10: log_px = -100205.2914 diff = 105.0607\n",
      "ITER 11: log_px = -100113.0994 diff = 92.192\n",
      "ITER 0: log_px = -101873.0539 diff = inf\n",
      "ITER 9: log_px = -98456.3012 diff = 81.5335\n",
      "K with best AIC [199332.60]: 199332.60245419116\n",
      "\n"
     ]
    }
   ],
   "source": [
    "K_list = [2,5, 10]\n",
    "AIC_best, K_best =  find_best_K(K_list,  num_epochs=100, delta=100)\n",
    "print(f\"K with best AIC [{AIC_best:.2f}]: {K_best}\\n\")"
   ]
  },
  {
   "cell_type": "code",
   "execution_count": 30,
   "metadata": {
    "deletable": false,
    "editable": false,
    "nbgrader": {
     "cell_type": "code",
     "checksum": "837c9fa8d9ab1d2f2d536d363dc5c69e",
     "grade": true,
     "grade_id": "cell-0f4eadea04714736",
     "locked": true,
     "points": 1,
     "schema_version": 3,
     "solution": false,
     "task": false
    }
   },
   "outputs": [],
   "source": [
    "# np.random.seed(1234)\n",
    "# K_list = [2,5, 10]\n",
    "\n",
    "# AIC_best, K_best =  find_best_K(K_list,  num_epochs=100, delta=1000)\n",
    "\n",
    "# print(f\"K with best AIC [{AIC_best:.2f}]: {K_best}\\n\")\n",
    "# assert  math.isclose(K_best, -42497679.35 ,abs_tol=100)"
   ]
  },
  {
   "cell_type": "markdown",
   "metadata": {
    "deletable": false,
    "editable": false,
    "nbgrader": {
     "cell_type": "markdown",
     "checksum": "0d5c17a3421f6dd2245d9658cf03ca2e",
     "grade": false,
     "grade_id": "cell-bfdf3987faae273a",
     "locked": true,
     "schema_version": 3,
     "solution": false,
     "task": false
    }
   },
   "source": [
    "#### Exercise 2.5"
   ]
  },
  {
   "cell_type": "code",
   "execution_count": 31,
   "metadata": {
    "deletable": false,
    "nbgrader": {
     "cell_type": "code",
     "checksum": "816ca61a1cbbee3949955de5d5e7f8cd",
     "grade": false,
     "grade_id": "cell-bdb127cdc4e35976",
     "locked": false,
     "schema_version": 3,
     "solution": true,
     "task": false
    }
   },
   "outputs": [],
   "source": [
    "def get_most_likely_words_per_topic(theta_matrix, dictionary, n_words=10) -> Dict[str, List[str]]:\n",
    "    '''\n",
    "    Return a dictionary {topic_id: list_of_words}\n",
    "    '''\n",
    "    word_dict = {}\n",
    "    for k in range(K):\n",
    "        max_indices = theta_matrix[k].argsort()[-n_words:][::-1]\n",
    "        res = []\n",
    "        for i in range(n_words):\n",
    "            res.append(dictionary[max_indices[i]])\n",
    "        word_dict[str(k)] = res\n",
    "    return word_dict\n",
    "\n",
    "\n",
    "def get_most_likely_documents(X_matrix, pi_vector, theta_matrix, n_docs=10) -> Dict[str, List[int]]:\n",
    "    '''\n",
    "    Return a dictionary {topic_id: list_of_documents}\n",
    "    '''\n",
    "    doc_dict = {}\n",
    "    for k in range(K):\n",
    "        like = X_matrix * theta_matrix[k]\n",
    "        like = np.sum(like, axis = 1)\n",
    "        like = like * pi_vector[0][k]\n",
    "        max_indices = like.argsort()[-n_docs:][::-1]\n",
    "        doc_dict[str(k)] = max_indices.tolist()\n",
    "    return doc_dict\n"
   ]
  },
  {
   "cell_type": "code",
   "execution_count": 32,
   "metadata": {
    "deletable": false,
    "editable": false,
    "nbgrader": {
     "cell_type": "code",
     "checksum": "fb76dbbc627fdc8bae216002092c963f",
     "grade": true,
     "grade_id": "cell-ec9a63765ee0d3a3",
     "locked": true,
     "points": 1,
     "schema_version": 3,
     "solution": false,
     "task": false
    }
   },
   "outputs": [
    {
     "name": "stdout",
     "output_type": "stream",
     "text": [
      "ITER 0: log_px = -102684.2752 diff = inf\n",
      "ITER 10: log_px = -100206.6843 diff = 123.497\n",
      "ITER 14: log_px = -99791.5806 diff = 96.3235\n",
      "Topic 0: learn, model, new, research, work, deep, paper, machin, data, train\n",
      "Topic 1: work, thank, great, look, peopl, today, day, presid, american, democrat\n",
      "Topic 2: new, time, human, work, book, year, world, patient, better, chang\n",
      "Topic 3: new, train, complet, net, sha, data, model, set, care, scienc\n",
      "Topic 4: like, good, know, need, work, data, use, patient, think, look\n",
      "Topic 0: [1437, 1996, 1457, 2841, 1470, 2835, 1883, 1443, 733, 1427]\n",
      "Topic 1: [5127, 4800, 3469, 251, 2660, 1680, 4796, 4801, 4799, 2618]\n",
      "Topic 2: [710, 2694, 11, 3160, 193, 3639, 2846, 4076, 3675, 3998]\n",
      "Topic 3: [3054, 3088, 3103, 3102, 3101, 3100, 3099, 3098, 3097, 3096]\n",
      "Topic 4: [1288, 2057, 3150, 2568, 1540, 4479, 3160, 4628, 2694, 197]\n"
     ]
    }
   ],
   "source": [
    "np.random.seed(1234)\n",
    "K = 5 # Number of mixture components\n",
    "np.random.seed(1234)\n",
    "pi_vector = 1 / K * np.ones([1, K])\n",
    "theta_matrix =  np.random.dirichlet(1. * np.ones(I), size=K)  # [K, I]\n",
    "\n",
    "\n",
    "pi_vector, theta_matrix, log_px_list, BIC_tr, AIC_tr, epoch = fit_CMM(X=X_matrix, \n",
    "                                                                  theta_matrix_init=theta_matrix, \n",
    "                                                                  pi_vector_init=pi_vector, \n",
    "                                                                  num_epochs=1000,\n",
    "                                                                  delta=100)\n",
    "word_list = get_most_likely_words_per_topic(theta_matrix, dictionary, n_words=10)\n",
    "for topic_id, list_of_words in word_list.items():\n",
    "    print(f\"Topic {topic_id}: {', '.join(list_of_words)}\")\n",
    "\n",
    "doc_list = get_most_likely_documents(X_matrix, pi_vector, theta_matrix, n_docs=10)\n",
    "for topic_id, list_of_docs in doc_list.items():\n",
    "    print(f\"Topic {topic_id}: {list_of_docs}\")\n",
    "    "
   ]
  },
  {
   "cell_type": "code",
   "execution_count": 33,
   "metadata": {},
   "outputs": [
    {
     "name": "stdout",
     "output_type": "stream",
     "text": [
      "ITER 0: log_px = -102288.3608 diff = inf\n",
      "ITER 9: log_px = -98581.3748 diff = 77.0242\n",
      "Topic 0: peopl, time, presid, like, democrat, trump, work, american, want, think\n",
      "Topic 1: research, woman, today, student, work, open, new, peopl, need, world\n",
      "Topic 2: book, new, year, tech, thank, student, read, way, compani, great\n",
      "Topic 3: health, data, care, patient, new, social, scienc, work, public, time\n",
      "Topic 4: need, watch, question, like, work, ask, studi, use, know, live\n",
      "Topic 5: learn, like, know, look, patient, good, machin, read, think, want\n",
      "Topic 6: thank, great, day, week, look, work, today, time, forward, challeng\n",
      "Topic 7: learn, model, new, deep, research, train, data, paper, work, base\n",
      "Topic 8: train, complet, net, new, sha, time, experi, network, work, big\n",
      "Topic 9: work, learn, new, team, like, look, design, help, paper, interest\n",
      "Topic 0: [5439, 5258, 5127, 5075, 5057, 5214, 5111, 3424, 2007, 5288]\n",
      "Topic 1: [676, 1609, 2830, 1664, 2489, 3474, 2794, 11, 2625, 710]\n",
      "Topic 2: [710, 549, 2850, 11, 4490, 3998, 2881, 2880, 1392, 741]\n",
      "Topic 3: [3639, 1540, 2847, 2653, 1287, 1288, 3630, 2694, 3974, 2666]\n",
      "Topic 4: [197, 4072, 4936, 1629, 3853, 2476, 4628, 2662, 3424, 5425]\n",
      "Topic 5: [1437, 1996, 1883, 2568, 2848, 1457, 2578, 2057, 2835, 1966]\n",
      "Topic 6: [4800, 4849, 4796, 4799, 4801, 251, 4844, 4850, 4845, 2672]\n",
      "Topic 7: [1437, 1996, 1457, 1470, 2835, 2841, 733, 1443, 1400, 2249]\n",
      "Topic 8: [3109, 3041, 3119, 3039, 3038, 3037, 3071, 3072, 3036, 3073]\n",
      "Topic 9: [1437, 1883, 1457, 3469, 1470, 1447, 1680, 2618, 710, 2827]\n"
     ]
    }
   ],
   "source": [
    "np.random.seed(1234)\n",
    "K = 10 # Number of mixture components\n",
    "np.random.seed(1234)\n",
    "pi_vector = 1 / K * np.ones([1, K])\n",
    "theta_matrix =  np.random.dirichlet(1. * np.ones(I), size=K)  # [K, I]\n",
    "\n",
    "\n",
    "pi_vector, theta_matrix, log_px_list, BIC_tr, AIC_tr, epoch = fit_CMM(X=X_matrix, \n",
    "                                                                  theta_matrix_init=theta_matrix, \n",
    "                                                                  pi_vector_init=pi_vector, \n",
    "                                                                  num_epochs=1000,\n",
    "                                                                  delta=100)\n",
    "word_list = get_most_likely_words_per_topic(theta_matrix, dictionary, n_words=10)\n",
    "for topic_id, list_of_words in word_list.items():\n",
    "    print(f\"Topic {topic_id}: {', '.join(list_of_words)}\")\n",
    "\n",
    "doc_list = get_most_likely_documents(X_matrix, pi_vector, theta_matrix, n_docs=10)\n",
    "for topic_id, list_of_docs in doc_list.items():\n",
    "    print(f\"Topic {topic_id}: {list_of_docs}\")\n",
    "    "
   ]
  }
 ],
 "metadata": {
  "anaconda-cloud": {},
  "kernelspec": {
   "display_name": "Python 3",
   "language": "python",
   "name": "python3"
  },
  "language_info": {
   "codemirror_mode": {
    "name": "ipython",
    "version": 3
   },
   "file_extension": ".py",
   "mimetype": "text/x-python",
   "name": "python",
   "nbconvert_exporter": "python",
   "pygments_lexer": "ipython3",
   "version": "3.8.5"
  },
  "pycharm": {
   "stem_cell": {
    "cell_type": "raw",
    "metadata": {
     "collapsed": false
    },
    "source": []
   }
  }
 },
 "nbformat": 4,
 "nbformat_minor": 2
}
