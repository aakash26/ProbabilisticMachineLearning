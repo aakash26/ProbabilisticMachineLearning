{
 "cells": [
  {
   "cell_type": "markdown",
   "metadata": {},
   "source": [
    "Before you turn this problem in, make sure everything runs as expected. First, **restart the kernel** (in the menubar, select Kernel$\\rightarrow$Restart) and then **run all cells** (in the menubar, select Cell$\\rightarrow$Run All).\n",
    "\n",
    "Make sure you fill in any place that says `YOUR CODE HERE` or \"YOUR ANSWER HERE\", as well as your name and collaborators below:"
   ]
  },
  {
   "cell_type": "code",
   "execution_count": 1,
   "metadata": {},
   "outputs": [],
   "source": [
    "NAME = \"Tutorial 3 \"\n",
    "COLLABORATORS = \"Aakash Rajpal\""
   ]
  },
  {
   "cell_type": "markdown",
   "metadata": {},
   "source": [
    "---"
   ]
  },
  {
   "cell_type": "markdown",
   "metadata": {
    "deletable": false,
    "editable": false,
    "nbgrader": {
     "cell_type": "markdown",
     "checksum": "4a1eb940526c6eaf21baf60086d57a11",
     "grade": false,
     "grade_id": "cell-fffc726e9d7fef6c",
     "locked": true,
     "schema_version": 3,
     "solution": false,
     "task": false
    }
   },
   "source": [
    "# 4. Inifnite Categorical Mixture Model + Gibbs Sampling"
   ]
  },
  {
   "cell_type": "code",
   "execution_count": 2,
   "metadata": {
    "deletable": false,
    "editable": false,
    "nbgrader": {
     "cell_type": "code",
     "checksum": "750e40571505cb864752e31547e13e91",
     "grade": false,
     "grade_id": "cell-83d3fac29ca3d105",
     "locked": true,
     "schema_version": 3,
     "solution": false,
     "task": false
    }
   },
   "outputs": [],
   "source": [
    "from ast import literal_eval\n",
    "\n",
    "import gensim\n",
    "import numpy as np\n",
    "import pandas as pd\n",
    "\n",
    "from categorical_gibbs_bnp import CategoricalGibbsBNP"
   ]
  },
  {
   "cell_type": "markdown",
   "metadata": {
    "deletable": false,
    "editable": false,
    "nbgrader": {
     "cell_type": "markdown",
     "checksum": "3e0665b53f68cf1bd12a75aa7daf5d88",
     "grade": false,
     "grade_id": "cell-ab3943fbfcf39642",
     "locked": true,
     "schema_version": 3,
     "solution": false,
     "task": false
    }
   },
   "source": [
    "##  Hyperparameters\n",
    "\n"
   ]
  },
  {
   "cell_type": "code",
   "execution_count": 3,
   "metadata": {
    "deletable": false,
    "editable": false,
    "nbgrader": {
     "cell_type": "code",
     "checksum": "8b31dbba7fe6b7173a6ae9b4a384b9f4",
     "grade": false,
     "grade_id": "cell-a73152090fa46f31",
     "locked": true,
     "schema_version": 3,
     "solution": false,
     "task": false
    }
   },
   "outputs": [],
   "source": [
    "## 1. Hyperparameters\n",
    "I = 120\n",
    "N = None"
   ]
  },
  {
   "cell_type": "markdown",
   "metadata": {},
   "source": [
    "## Load and preprocess the data"
   ]
  },
  {
   "cell_type": "code",
   "execution_count": 4,
   "metadata": {
    "deletable": false,
    "editable": false,
    "nbgrader": {
     "cell_type": "code",
     "checksum": "7574d93c8ba2912203f144a59d8c4448",
     "grade": false,
     "grade_id": "cell-02d8b9fc4d9803ac",
     "locked": true,
     "schema_version": 3,
     "solution": false,
     "task": false
    }
   },
   "outputs": [],
   "source": [
    "df = pd.read_csv('../../tweets_cleaned.csv')\n",
    "# df = df.head(800)\n",
    "# df = df.head(800)\n",
    "df.drop_duplicates(subset=\"tweet\", inplace=True)\n",
    "\n",
    "df['tokens'] = df['tokens'].apply(literal_eval)\n",
    "X_tokens = list(df['tokens'].values)\n",
    "dictionary = gensim.corpora.Dictionary(X_tokens)\n",
    "\n",
    "dictionary.filter_extremes(no_below=15, no_above=0.5, keep_n=I)\n",
    "\n",
    "I = len(dictionary)\n",
    "X_bow = list()\n",
    "keep_tweet = list()\n",
    "for tweet in X_tokens:\n",
    "    tweet_bow = dictionary.doc2bow(tweet)\n",
    "    if len(tweet_bow) > 1:\n",
    "        X_bow.append(tweet_bow)\n",
    "        keep_tweet.append(True)\n",
    "    else:\n",
    "        keep_tweet.append(False)\n",
    "\n",
    "df_data = df[keep_tweet]\n",
    "\n",
    "N = len(X_bow)\n",
    "\n",
    "X_matrix = np.zeros([N, I])\n",
    "for i, doc_bow in enumerate(X_bow):\n",
    "    word_list = list()\n",
    "    for word in doc_bow:\n",
    "        X_matrix[i, word[0]] = word[1]"
   ]
  },
  {
   "cell_type": "markdown",
   "metadata": {
    "deletable": false,
    "editable": false,
    "nbgrader": {
     "cell_type": "markdown",
     "checksum": "137ba60f44cf7a3c75c8d6c4753cecd5",
     "grade": false,
     "grade_id": "cell-d0a3fb543d9c1f61",
     "locked": true,
     "schema_version": 3,
     "solution": false,
     "task": false
    }
   },
   "source": [
    "### Exercise 1: Analytical forms of different Gibbs sampling algorithms"
   ]
  },
  {
   "cell_type": "markdown",
   "metadata": {
    "deletable": false,
    "editable": false,
    "nbgrader": {
     "cell_type": "markdown",
     "checksum": "97601ca8000f999c2a808e7779ec6ae8",
     "grade": false,
     "grade_id": "cell-42f888b7844da628",
     "locked": true,
     "schema_version": 3,
     "solution": false,
     "task": false
    }
   },
   "source": [
    "1. Algorithm 1"
   ]
  },
  {
   "cell_type": "markdown",
   "metadata": {
    "deletable": false,
    "nbgrader": {
     "cell_type": "markdown",
     "checksum": "1e74ed11245b3e71833968c87088c8f2",
     "grade": true,
     "grade_id": "cell-8a767d6bf4722a93",
     "locked": false,
     "points": 4,
     "schema_version": 3,
     "solution": true,
     "task": false
    }
   },
   "source": [
    "1. $p(Z_{n} = k | X,Z_{-n}, \\theta)$\n",
    "\n",
    "Here we can have two different cases\\\n",
    "i) New cluster k\\\n",
    "ii) No new cluster\\\n",
    "For both cases\\\n",
    "$p(Z_{n} = k | X,Z_{-n}, \\theta) \\propto p(Z_{n}, X_{n} | Z_{-n}, \\theta)$\n",
    "\n",
    "$ = p(X_{n} | Z_{n} = k, Z_{-n}, \\theta) p(Z_{n} = k | Z_{-n})$\n",
    "\n",
    "Now we will compute $p(Z_{n} = k | Z_{-n})$ for both the cases\\\n",
    "\n",
    "$p(Z_{n} = k | Z_{-n}) = \\frac{\\sum_{i \\neq n}^{n} [ Z_{i} = k ] + \\alpha_{k}}{N - 1 + \\sum_{k} \\alpha_{k} }$\n",
    "\n",
    "As we consider infinite clusters the Dirichlet parameters are $\\alpha/k$ so $\\sum_{k} \\alpha_k$ becomes $\\alpha$\\\n",
    "and also we define $m_{k}(n)$ depicting the number of samples in cluster k.\n",
    "\n",
    "We know that $\\sum_{k = 1}^{\\infty} p(Z_{n} = k | Z_{-n}) = 1$ as the probabilities of assigning a sample across different clusters has to sum to 1.\\\n",
    "Or,\n",
    "\n",
    "$\\lim_{K \\to \\infty} \\sum_{k = 1}^{K} \\frac{m_{k}(n) + \\alpha/K}{N - 1 + \\alpha} = 1$\n",
    "\n",
    "$\\lim_{K \\to \\infty} \\sum_{k = 1}^{K^{+}} \\frac{m_{k}(n) + \\alpha/K}{N - 1 + \\alpha} + \\lim_{K \\to \\infty} \\sum_{k = K^{+}}^{K} \\frac{\\alpha/K}{N - 1 + \\alpha} = 1$\n",
    "\n",
    "$\\frac{m_{k}(n)}{N - 1 + \\alpha} + \\cdots\\cdots = 1$\n",
    "\n",
    "$p(Z_{n} = k_{new} | Z_{-n}) = 1 - \\frac{N - 1}{N - 1 + \\alpha} = \\frac{\\alpha}{N - 1 + \\alpha}$\n",
    "\n",
    "Now we have computed $p(Z_{n} = k | Z_{-n})$ for both cases\\\n",
    "i) New cluster k $\\frac{\\alpha}{N - 1 + \\alpha}$\\\n",
    "ii) No new cluster $\\frac{m_{k}(n)}{N - 1 + \\alpha}$\n",
    "\n",
    "Now to compute the second component $p(X_{n} | Z_{n} = k, Z_{-n}, \\theta)$ for both the cases\\\n",
    "i)No new cluster\\\n",
    "$p(X_{n} | Z_{n} = k, Z_{-n}, \\theta) = p(X_{n} | \\theta_{k})$\n",
    "\n",
    "ii) New cluster k\\\n",
    "$p(X_{n} | Z_{n} = k, Z_{-n}, \\theta) = p(X_{n} | Z_{n} = k_{new})$\n",
    "\n",
    "$ = \\int p(X_{n}, \\theta | Z_{n} = k_{new}) d\\theta$\\\n",
    "$ = \\int p(X_{n} | Z_{n} = k_{new}, \\theta) p(\\theta) d\\theta$\\\n",
    "$ = \\int p(X_{n} | \\theta) Dir(\\theta | \\gamma ) d\\theta$\\\n",
    "$ = \\int \\prod_{j = 1}^{W_{n}} \\prod_{m = 1}^{|I|} \\theta_{m}^{[X_{nj} = m]} \\frac{1}{\\beta(\\gamma)}\\prod_{m = 1}^{|I|} \\theta_{m}^{\\gamma_{m} - 1}$\n",
    "\n",
    "$c_{m} = \\sum_{j} [X_{nj} = m]$\n",
    "\n",
    "$ = \\int \\prod_{m = 1}^{|I|} \\theta_{m}^{c_{m}} \\frac{1}{\\beta(\\gamma)}\\prod_{m = 1}^{|I|} \\theta_{m}^{\\gamma_{m} - 1}$\n",
    "\n",
    "$\\frac{1}{\\beta(\\gamma)} \\int \\prod_{m = 1}^{|I|} \\theta_{m}^{\\gamma_{m} + c_{m} + - 1} d\\theta$\n",
    "\n",
    "Considering $\\gamma_{m}^{'} = \\gamma_{m} + c_m$\n",
    "\n",
    "$ = \\frac{\\beta(\\gamma^{'})}{\\beta(\\gamma)} \\int \\frac{1}{\\beta(\\gamma^{'})}  \\prod_{m = 1}^{|I|} \\theta_{m}^{\\gamma_{m} + c_{m} + - 1} d\\theta$\n",
    "\n",
    "$ = \\frac{\\beta(\\gamma^{'})}{\\beta(\\gamma)} \\int Dir(\\gamma^{'}) d\\theta$\n",
    "\n",
    "$ = \\frac{\\beta(\\gamma^{'})}{\\beta(\\gamma)}$\n",
    "\n",
    "finally \n",
    "i) New cluster k\\\n",
    "$p(Z_{n} = k | X,Z_{-n}, \\theta) = \\frac{\\alpha}{N - 1 + \\alpha} \\frac{\\beta(\\gamma^{'})}{\\beta(\\gamma)} $\n",
    "\n",
    "ii) No new cluster\\\n",
    "$p(Z_{n} = k | X,Z_{-n}, \\theta) = \\frac{m_{k}(n)}{N - 1 + \\alpha} p(X_n | \\theta_{k})$\n",
    "\n",
    "3. $p(\\theta_{k} | X, Z)$\n",
    "\n",
    "$p(\\theta_{k} | X, Z) \\propto p(\\theta_{k}, X | Z)$\\\n",
    "$ = p(\\theta_{k} | \\gamma) p(X|\\theta_{k}, Z)$\\\n",
    "$ = Dir(\\theta_k | \\gamma) \\prod_{n}^{N} \\prod_{j}^{W_{n}} Cat(X_{nj} | \\theta_{k})^{[Z_{n} = k]}$\\\n",
    "$ = Dir(\\theta_k | \\gamma) \\prod_{n}^{N} \\prod_{j}^{W_{n}} \\prod_{m}^{|I|} Cat(X_{nj} | \\theta_{k})^{[Z_{n} = k][X_{nj} = m]}$\n",
    "\n",
    "Consider $c_{km} = \\sum_{n} \\sum_{j} [Z_{n} = k][X_{nj} = m]$\\\n",
    "$ = Dir(\\theta_k | \\gamma) \\prod_{m}^{|I|}  \\theta_{km})^{c_{km}}$\n",
    "\n",
    "$ = Dir(\\theta_k | \\{\\gamma_{m} + c_{km}\\})$\n",
    "\n",
    "2. $p(\\theta_{k} | X_{n})$\n",
    "\n",
    "Considering the previous proof here\\\n",
    "$c_{km}^{'} = \\sum_{j} [X_{nj} = m]$ will be defined like this rest will be same\\\n",
    "So the final distribution will be\\\n",
    "\n",
    "$ = Dir(\\theta_k | \\{\\gamma_{m} + c_{km}^{'}\\})$\n",
    "\n",
    "\n",
    "\n",
    "\n",
    "\n",
    "\n"
   ]
  },
  {
   "cell_type": "markdown",
   "metadata": {
    "deletable": false,
    "editable": false,
    "nbgrader": {
     "cell_type": "markdown",
     "checksum": "ed756d7be273c370c1e84e0dabf08970",
     "grade": false,
     "grade_id": "cell-3fe7d5a867c009ca",
     "locked": true,
     "schema_version": 3,
     "solution": false,
     "task": false
    }
   },
   "source": [
    "1. Algorithm 2"
   ]
  },
  {
   "cell_type": "markdown",
   "metadata": {
    "deletable": false,
    "nbgrader": {
     "cell_type": "markdown",
     "checksum": "847e82f12dfaa4cefc20d04f9a4d48a7",
     "grade": true,
     "grade_id": "cell-6952aa7965a5029a",
     "locked": false,
     "points": 4,
     "schema_version": 3,
     "solution": true,
     "task": false
    }
   },
   "source": [
    "1. $p(Z_{n} | X, Z_{-n})$\\\n",
    "Here as well we need to consider two cases\\\n",
    "i) No new cluster\\\n",
    "$p(Z_{n} | X, Z_{-n}) \\propto p(Z_{n} = k, X_{n} | Z_{-n}) $\\\n",
    "$p(X_{n} | Z_{n} = k, Z_{-n}, X_{-n}) p(Z_{n} = k | Z_{-n})$\\\n",
    "\n",
    "Now $p(Z_{n} = k | Z_{-n})$ we have already computed in Algo 1\\\n",
    "$p(Z_{n} = k | Z_{-n}) = \\frac{m_{k}(n)}{N - 1 + \\alpha}$\n",
    "\n",
    "Hence,\\\n",
    "$ = p(X_{n} | Z_{n} = k, Z_{-n}, X_{-n}) \\frac{m_{k}(n)}{N - 1 + \\alpha}$\\\n",
    "\n",
    "Now Considering $p(X_{n} | Z_{n} = k, Z_{-n}, X_{-n})$\n",
    "\n",
    "$ = \\int p(X_{n}, \\theta_{k} | Z_{n} = k, Z_{-n}, X_{-n}) d\\theta_{k}$\\\n",
    "$ = \\int p(X_{n}| Z_{n} = k, \\theta_{k}) p (\\theta_{k} | Z_{-n}, X_{-n}) d\\theta_{k}$\\\n",
    "\n",
    "Now first we will consider $p (\\theta_{k} | Z_{-n}, X_{-n})$ as we have already derived $p (\\theta_{k} | Z, X)$ in Algo 1.\\\n",
    "We had $\\sum_{n} \\sum_{j} [Z_{n} = k][X_{nj} = m]$ in Algo but now we need to remove the nth sample,so\\\n",
    "Now defining $c_{km} = \\sum_{i \\neq n} \\sum_{j} [Z_{i} = k][X_{ij} = m]$\\\n",
    "\n",
    "So $p (\\theta_{k} | Z_{-n}, X_{-n}) = Dir(\\theta_{k} | \\{ \\gamma_{m} + c_{km}\\})$\n",
    "\n",
    "$ = \\int \\prod_{m = 1}^{|I|} \\theta_{k}^{d_{m}} Dir(\\theta_{k} | \\{ \\gamma_{m} + c_{km}\\}) d\\theta_{k}$\\\n",
    "Here $d_{m} = \\sum_{j} [X_{nj} = m]$\n",
    "\n",
    "$ = \\int \\prod_{m = 1}^{|I|} \\theta_{k}^{d_{m}} \\frac{1}{\\beta(\\gamma^{'})} \\prod_{m}^{|I|}\\theta_{k}^{\\gamma_{m}^{'} - 1} d\\theta_{k}$\\\n",
    "\n",
    "Here $\\gamma^{'}  = \\gamma_{m} + c_{km}$\\\n",
    "$ = \\frac{1}{\\beta(\\gamma^{'})} \\int \\prod_{m}^{\\gamma_{m}^{'} + d_{m} - 1} d\\theta_{k}$\\\n",
    "$ = \\frac{\\beta(\\gamma^{''})}{\\beta(\\gamma^{'})} \\int Dir(\\theta_{k} | \\gamma^{''}) d\\theta_{k}$\\\n",
    "\n",
    "Here $\\gamma^{''}  = \\gamma_{m}^{'} + d_{m}$\\\n",
    "$ = \\frac{\\beta(\\gamma^{''})}{\\beta(\\gamma^{'})}$\n",
    "\n",
    "Final $p(Z_{n} | X, Z_{-n}) = \\frac{m_{k}(n)}{N - 1 + \\alpha} \\frac{\\beta(\\gamma^{''})}{\\beta(\\gamma^{'})} $ for no new cluster.\n",
    "\n",
    "ii) New cluster k\n",
    "\n",
    "$p(X_{n} | Z_{n} = k, Z_{-n}, X_{-n}) p(Z_{n} = k | Z_{-n})$\n",
    "\n",
    "Now $p(Z_{n} = k | Z_{-n})$ we have already computed in Algo 1\\\n",
    "$p(Z_{n} = k | Z_{-n}) = \\frac{\\alpha}{N - 1 + \\alpha}$\n",
    "\n",
    "Now for $p(X_{n} | Z_{n} = k, Z_{-n}, X_{-n}) = p(X_{n} | Z_{n} = k)$\\\n",
    "And this we have already computed in Algorithm 1 \n",
    "\n",
    "$c_{m} = \\sum_{j} [X_{nj} = m]$\\\n",
    "Considering $\\gamma_{m}^{'} = \\gamma_{m} + c_m$\\\n",
    "$p(X_{n} | Z_{n} = k) = \\frac{\\beta(\\gamma^{'})}{\\beta(\\gamma)}$\n",
    "\n",
    "So final $p(Z_{n} | X, Z_{-n}) = \\frac{\\beta(\\gamma^{'})}{\\beta(\\gamma)} \\frac{\\alpha}{N - 1 + \\alpha}$"
   ]
  },
  {
   "cell_type": "markdown",
   "metadata": {},
   "source": [
    "## Create the model and train"
   ]
  },
  {
   "cell_type": "code",
   "execution_count": 5,
   "metadata": {},
   "outputs": [],
   "source": [
    "model = CategoricalGibbsBNP(I, N, alpha=0.1, gamma_v=np.ones(I))\n",
    "model.dictionary = dictionary"
   ]
  },
  {
   "cell_type": "code",
   "execution_count": 6,
   "metadata": {},
   "outputs": [
    {
     "name": "stdout",
     "output_type": "stream",
     "text": [
      "Using pi collapsed Gibbs sampling!\n",
      "Adding a cluster! K_p: 2\n",
      "Adding a cluster! K_p: 3\n",
      "Adding a cluster! K_p: 4\n",
      "Adding a cluster! K_p: 5\n",
      "Adding a cluster! K_p: 6\n",
      "Adding a cluster! K_p: 7\n",
      "Adding a cluster! K_p: 8\n",
      "Adding a cluster! K_p: 9\n",
      "ITER: 0 | log_lik: -99707.55199565405\n",
      "Adding a cluster! K_p: 10\n",
      "Removing a cluster! K_p: 9\n",
      "ITER: 10 | log_lik: -93504.40754567979\n",
      "ITER: 20 | log_lik: -92482.53226820272\n",
      "Adding a cluster! K_p: 10\n",
      "Removing a cluster! K_p: 9\n",
      "Adding a cluster! K_p: 10\n",
      "Removing a cluster! K_p: 9\n",
      "ITER: 30 | log_lik: -92279.87105295088\n",
      "Adding a cluster! K_p: 10\n",
      "ITER: 40 | log_lik: -92258.90697205895\n",
      "Removing a cluster! K_p: 9\n",
      "Adding a cluster! K_p: 10\n",
      "Adding a cluster! K_p: 11\n",
      "ITER: 50 | log_lik: -92263.60856295827\n",
      "Adding a cluster! K_p: 12\n",
      "Removing a cluster! K_p: 11\n",
      "Removing a cluster! K_p: 10\n",
      "Removing a cluster! K_p: 9\n",
      "ITER: 60 | log_lik: -92076.19286637612\n",
      "Adding a cluster! K_p: 10\n",
      "ITER: 70 | log_lik: -92269.42720553764\n",
      "Removing a cluster! K_p: 9\n",
      "Adding a cluster! K_p: 10\n",
      "ITER: 80 | log_lik: -91979.27261091764\n",
      "Removing a cluster! K_p: 9\n",
      "Adding a cluster! K_p: 10\n",
      "Adding a cluster! K_p: 11\n",
      "ITER: 90 | log_lik: -91873.07420683469\n",
      "Removing a cluster! K_p: 10\n",
      "Removing a cluster! K_p: 9\n"
     ]
    }
   ],
   "source": [
    "model.fit(X_matrix,  burn_in=50, iter=100, collapsed=1)"
   ]
  },
  {
   "cell_type": "code",
   "execution_count": 7,
   "metadata": {},
   "outputs": [
    {
     "data": {
      "text/plain": [
       "Text(0.5, 1.0, 'Pi collapsed Gibbs sampling')"
      ]
     },
     "execution_count": 7,
     "metadata": {},
     "output_type": "execute_result"
    },
    {
     "data": {
      "image/png": "[encoded data removed]",
      "text/plain": [
       "<Figure size 432x288 with 1 Axes>"
      ]
     },
     "metadata": {
      "needs_background": "light"
     },
     "output_type": "display_data"
    }
   ],
   "source": [
    "import matplotlib.pyplot as plt\n",
    "data = plt.plot(model.log_px_list)\n",
    "plt.xlabel('Iterations')\n",
    "plt.ylabel('$log p(X|\\Theta)$')\n",
    "plt.title('Pi collapsed Gibbs sampling')"
   ]
  },
  {
   "cell_type": "code",
   "execution_count": 8,
   "metadata": {},
   "outputs": [
    {
     "name": "stdout",
     "output_type": "stream",
     "text": [
      "Using Fully collapsed Gibbs sampling!\n",
      "ITER: 0 | log_lik: -103080.9758709523\n",
      "Adding a cluster! K_p: 2\n",
      "ITER: 10 | log_lik: -102994.70387254676\n",
      "Adding a cluster! K_p: 3\n",
      "Removing a cluster! K_p: 2\n",
      "ITER: 20 | log_lik: -101045.02674508236\n",
      "Adding a cluster! K_p: 3\n",
      "ITER: 30 | log_lik: -98783.49148756727\n",
      "ITER: 40 | log_lik: -98061.04298876667\n",
      "Adding a cluster! K_p: 4\n",
      "Removing a cluster! K_p: 3\n",
      "ITER: 50 | log_lik: -97981.5090172496\n",
      "Adding a cluster! K_p: 4\n",
      "Removing a cluster! K_p: 3\n",
      "ITER: 60 | log_lik: -98018.12660144242\n",
      "Adding a cluster! K_p: 4\n",
      "Removing a cluster! K_p: 3\n",
      "ITER: 70 | log_lik: -98007.01977752514\n",
      "Adding a cluster! K_p: 4\n",
      "Removing a cluster! K_p: 3\n",
      "Adding a cluster! K_p: 4\n",
      "Removing a cluster! K_p: 3\n",
      "ITER: 80 | log_lik: -98034.50320007178\n",
      "Adding a cluster! K_p: 4\n",
      "ITER: 90 | log_lik: -98050.1660900778\n"
     ]
    }
   ],
   "source": [
    "model = CategoricalGibbsBNP(I, N, alpha=0.1, gamma_v=np.ones(I))\n",
    "model.dictionary = dictionary\n",
    "model.fit(X_matrix,  burn_in=50, iter=100, collapsed=2)"
   ]
  },
  {
   "cell_type": "code",
   "execution_count": 9,
   "metadata": {},
   "outputs": [
    {
     "data": {
      "text/plain": [
       "Text(0.5, 1.0, 'Fully collapsed Gibbs sampling')"
      ]
     },
     "execution_count": 9,
     "metadata": {},
     "output_type": "execute_result"
    },
    {
     "data": {
      "image/png": "[encoded data removed]",
      "text/plain": [
       "<Figure size 432x288 with 1 Axes>"
      ]
     },
     "metadata": {
      "needs_background": "light"
     },
     "output_type": "display_data"
    }
   ],
   "source": [
    "import matplotlib.pyplot as plt\n",
    "data = plt.plot(model.log_px_list)\n",
    "plt.xlabel('Iterations')\n",
    "plt.ylabel('$log p(X|\\Theta)$')\n",
    "plt.title('Fully collapsed Gibbs sampling')"
   ]
  },
  {
   "cell_type": "code",
   "execution_count": 10,
   "metadata": {},
   "outputs": [
    {
     "name": "stdout",
     "output_type": "stream",
     "text": [
      "Topic  0\n",
      "time | book | share | day | work | net | new | complet | train | sha\n",
      "\n",
      "Topic  1\n",
      "year | new | great | look | today | thank | time | peopl | like | work\n",
      "\n",
      "Topic  2\n",
      "human | machin | data | paper | deep | model | work | research | new | learn\n",
      "\n",
      "Topic  3\n",
      "life | result | way | tri | woman | good | use | like | scienc | data\n",
      "\n"
     ]
    }
   ],
   "source": [
    "model.show_words_by_topic(dictionary, n_words=10)"
   ]
  },
  {
   "cell_type": "markdown",
   "metadata": {},
   "source": [
    "### Exercise 2: Inspect the code"
   ]
  },
  {
   "cell_type": "markdown",
   "metadata": {
    "deletable": false,
    "editable": false,
    "nbgrader": {
     "cell_type": "markdown",
     "checksum": "8ddaa23a8feb3f540d0a2d1dea088a3a",
     "grade": false,
     "grade_id": "cell-b281374a43c43f25",
     "locked": true,
     "schema_version": 3,
     "solution": false,
     "task": false
    }
   },
   "source": [
    "#### Algorithm 1"
   ]
  },
  {
   "cell_type": "code",
   "execution_count": 11,
   "metadata": {
    "deletable": false,
    "nbgrader": {
     "cell_type": "code",
     "checksum": "7a4f3463e41bd7d9d70da9a166280b7e",
     "grade": false,
     "grade_id": "cell-c88d83df8963ffae",
     "locked": false,
     "schema_version": 3,
     "solution": true,
     "task": false
    }
   },
   "outputs": [],
   "source": [
    "# 1.\n",
    "line_sample_z_n_given_  = 202 \n",
    "# 2.\n",
    "line_sample_theta_given_x_n  = 213\n",
    "# 3.\n",
    "line_sample_theta_k_given_X_Z =  183 \n",
    "# 4.\n",
    "code_remove_empty_cluster  =  [227, 235] \n",
    "#5.\n",
    "code_add_new_cluster  =   [207, 215] \n",
    "# YOUR CODE HERE\n"
   ]
  },
  {
   "cell_type": "code",
   "execution_count": 12,
   "metadata": {
    "deletable": false,
    "editable": false,
    "nbgrader": {
     "cell_type": "code",
     "checksum": "3d67ba4ccc29f072e94d9cd1a228bcf9",
     "grade": true,
     "grade_id": "cell-8463cf25ea7e2287",
     "locked": true,
     "points": 5,
     "schema_version": 3,
     "solution": false,
     "task": false
    }
   },
   "outputs": [
    {
     "name": "stdout",
     "output_type": "stream",
     "text": [
      "202 213 183 [227, 235] [207, 215]\n"
     ]
    }
   ],
   "source": [
    "print(f\"{line_sample_z_n_given_} {line_sample_theta_given_x_n} {line_sample_theta_k_given_X_Z} {code_remove_empty_cluster} {code_add_new_cluster}\")\n"
   ]
  },
  {
   "cell_type": "markdown",
   "metadata": {
    "deletable": false,
    "editable": false,
    "nbgrader": {
     "cell_type": "markdown",
     "checksum": "cf9c7b0249dc9e8ee5a7e44115b6cbed",
     "grade": false,
     "grade_id": "cell-1c8b6f334711db5d",
     "locked": true,
     "schema_version": 3,
     "solution": false,
     "task": false
    }
   },
   "source": [
    "#### Algorithm 2\n"
   ]
  },
  {
   "cell_type": "code",
   "execution_count": 13,
   "metadata": {
    "deletable": false,
    "nbgrader": {
     "cell_type": "code",
     "checksum": "4519ab134b8d4bd3fb9b2526620b81a9",
     "grade": false,
     "grade_id": "cell-cf700c8cc6200cc9",
     "locked": false,
     "schema_version": 3,
     "solution": true,
     "task": false
    }
   },
   "outputs": [],
   "source": [
    "# 1. \n",
    "line_sample_z_n_given_  = 176 \n",
    "# 2.\n",
    "line_compute_zn_k_given_Zn = 165\n",
    "# 3.\n",
    "line_compute_zn_Knew_given_Zn  = 171 "
   ]
  },
  {
   "cell_type": "code",
   "execution_count": 14,
   "metadata": {
    "deletable": false,
    "editable": false,
    "nbgrader": {
     "cell_type": "code",
     "checksum": "236a89350a950fdb7afb95ffbae61af5",
     "grade": true,
     "grade_id": "cell-a6ab7a9f5a2488be",
     "locked": true,
     "points": 3,
     "schema_version": 3,
     "solution": false,
     "task": false
    }
   },
   "outputs": [
    {
     "name": "stdout",
     "output_type": "stream",
     "text": [
      "176 165 171\n"
     ]
    }
   ],
   "source": [
    "print(f\"{line_sample_z_n_given_} {line_compute_zn_k_given_Zn} {line_compute_zn_Knew_given_Zn}\")"
   ]
  },
  {
   "cell_type": "markdown",
   "metadata": {},
   "source": [
    "#### Other\n"
   ]
  },
  {
   "cell_type": "code",
   "execution_count": 15,
   "metadata": {
    "deletable": false,
    "nbgrader": {
     "cell_type": "code",
     "checksum": "c49f0c65562b77362df7798ff4cb954b",
     "grade": false,
     "grade_id": "cell-4b83c3b37818de2a",
     "locked": false,
     "schema_version": 3,
     "solution": true,
     "task": false
    }
   },
   "outputs": [],
   "source": [
    "# 1.\n",
    "function_pxn_given_zn_Knew  = 'likelihood_xn_knew' \n",
    "# 2.\n",
    "function_log_pX_given_Z_theta = 'log_likelihood_X' \n",
    "# 3.\n",
    "init_seen_clusters  = 1"
   ]
  },
  {
   "cell_type": "code",
   "execution_count": 16,
   "metadata": {
    "deletable": false,
    "editable": false,
    "nbgrader": {
     "cell_type": "code",
     "checksum": "d63c1262d6fd530b8de3eecb5ffafaaf",
     "grade": true,
     "grade_id": "cell-8b27cb77302ca121",
     "locked": true,
     "points": 3,
     "schema_version": 3,
     "solution": false,
     "task": false
    }
   },
   "outputs": [
    {
     "name": "stdout",
     "output_type": "stream",
     "text": [
      "likelihood_xn_knew log_likelihood_X 1\n"
     ]
    }
   ],
   "source": [
    "print(f\"{function_pxn_given_zn_Knew} {function_log_pX_given_Z_theta} {init_seen_clusters}\")"
   ]
  },
  {
   "cell_type": "code",
   "execution_count": null,
   "metadata": {},
   "outputs": [],
   "source": []
  }
 ],
 "metadata": {
  "kernelspec": {
   "display_name": "Python 3",
   "language": "python",
   "name": "python3"
  },
  "language_info": {
   "codemirror_mode": {
    "name": "ipython",
    "version": 3
   },
   "file_extension": ".py",
   "mimetype": "text/x-python",
   "name": "python",
   "nbconvert_exporter": "python",
   "pygments_lexer": "ipython3",
   "version": "3.8.5"
  }
 },
 "nbformat": 4,
 "nbformat_minor": 4
}
