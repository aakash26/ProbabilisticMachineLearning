{
 "cells": [
  {
   "cell_type": "markdown",
   "metadata": {},
   "source": [
    "Before you turn this problem in, make sure everything runs as expected. First, **restart the kernel** (in the menubar, select Kernel$\\rightarrow$Restart) and then **run all cells** (in the menubar, select Cell$\\rightarrow$Run All).\n",
    "\n",
    "Make sure you fill in any place that says `YOUR CODE HERE` or \"YOUR ANSWER HERE\", as well as your name and collaborators below:"
   ]
  },
  {
   "cell_type": "code",
   "execution_count": 1,
   "metadata": {},
   "outputs": [],
   "source": [
    "NAME = \"Tutorial 2  \"\n",
    "COLLABORATORS = \"Aakash Rajpal\""
   ]
  },
  {
   "cell_type": "markdown",
   "metadata": {},
   "source": [
    "---"
   ]
  },
  {
   "cell_type": "markdown",
   "metadata": {
    "deletable": false,
    "editable": false,
    "nbgrader": {
     "cell_type": "markdown",
     "checksum": "ea683d09b36d351705de2848de4c4a80",
     "grade": false,
     "grade_id": "cell-6230a9d0e29e75a5",
     "locked": true,
     "schema_version": 3,
     "solution": false,
     "task": false
    },
    "pycharm": {
     "is_executing": false
    }
   },
   "source": [
    "# 3. Categorical Mixture Model + Gibbs Sampling Algorithm"
   ]
  },
  {
   "cell_type": "code",
   "execution_count": 2,
   "metadata": {
    "deletable": false,
    "editable": false,
    "nbgrader": {
     "cell_type": "code",
     "checksum": "a0328acc57b1797eb8d8dc1014ac6ad8",
     "grade": false,
     "grade_id": "cell-18e30024c25a53e6",
     "locked": true,
     "schema_version": 3,
     "solution": false,
     "task": false
    }
   },
   "outputs": [
    {
     "name": "stdout",
     "output_type": "stream",
     "text": [
      "3.6.9 (default, Oct  8 2020, 12:12:24) \n",
      "[GCC 8.4.0]\n"
     ]
    }
   ],
   "source": [
    "# Common imports \n",
    "from ast import literal_eval\n",
    "\n",
    "import gensim\n",
    "import numpy as np\n",
    "import pandas as pd\n",
    "\n",
    "import math\n",
    "from typing import Tuple, Dict, List\n",
    "\n",
    "import scipy.special\n",
    "\n",
    "import sys\n",
    "print(sys.version)"
   ]
  },
  {
   "cell_type": "markdown",
   "metadata": {
    "deletable": false,
    "editable": false,
    "nbgrader": {
     "cell_type": "markdown",
     "checksum": "0ee1162d855d1d963b4e58521ab0f7af",
     "grade": false,
     "grade_id": "cell-d14c0e40959e07ca",
     "locked": true,
     "schema_version": 3,
     "solution": false,
     "task": false
    },
    "pycharm": {}
   },
   "source": [
    "## 1. Hyperparameters\n"
   ]
  },
  {
   "cell_type": "code",
   "execution_count": 3,
   "metadata": {
    "deletable": false,
    "editable": false,
    "nbgrader": {
     "cell_type": "code",
     "checksum": "59dcd550437ee941287037b7a4fd4779",
     "grade": false,
     "grade_id": "cell-140560c010977a8d",
     "locked": true,
     "schema_version": 3,
     "solution": false,
     "task": false
    },
    "pycharm": {}
   },
   "outputs": [],
   "source": [
    "K = 5 # Number of mixture components\n",
    "I = 120 # Number of words in the dictionary\n",
    "N = None # Number of documents"
   ]
  },
  {
   "cell_type": "markdown",
   "metadata": {
    "deletable": false,
    "editable": false,
    "nbgrader": {
     "cell_type": "markdown",
     "checksum": "256d5f936238125e718b919330a1da8d",
     "grade": false,
     "grade_id": "cell-760d51d1adde9673",
     "locked": true,
     "schema_version": 3,
     "solution": false,
     "task": false
    }
   },
   "source": [
    "## 2. Load and preprocess the data\n",
    "\n",
    "First, we need to load the data from the csv. This file contains the documents already processed and cleaned after applying the following steps:\n",
    "\n",
    "1. Tokenization\n",
    "2. Homogeneization, which includes:\n",
    "    1. Removing capitalization.\n",
    "    2. Removing non alphanumeric tokens (e.g. punktuation signs)\n",
    "    3. Stemming/Lemmatization.\n",
    "3. Cleaning\n",
    "4. Vectorization\n",
    "\n",
    "\n",
    "We load it as a `pandas` dataframe.\n"
   ]
  },
  {
   "cell_type": "code",
   "execution_count": 4,
   "metadata": {
    "deletable": false,
    "editable": false,
    "nbgrader": {
     "cell_type": "code",
     "checksum": "bec4596542da44f6dba145eb6e47cf2f",
     "grade": false,
     "grade_id": "cell-5a3496b1b19b914b",
     "locked": true,
     "schema_version": 3,
     "solution": false,
     "task": false
    },
    "pycharm": {
     "name": "#%%\n"
    }
   },
   "outputs": [],
   "source": [
    "df = pd.read_csv('../../tweets_cleaned.csv')\n",
    "df.drop_duplicates(subset=\"tweet\", inplace=True)\n",
    "\n",
    "df['tokens'] = df['tokens'].apply(literal_eval) #Transform the string into a list of tokens\n",
    "X_tokens = list(df['tokens'].values)\n"
   ]
  },
  {
   "cell_type": "code",
   "execution_count": 5,
   "metadata": {
    "deletable": false,
    "editable": false,
    "nbgrader": {
     "cell_type": "code",
     "checksum": "163ba359e97619682cc091d625c4a4cb",
     "grade": false,
     "grade_id": "cell-778824ee1dc6c0d1",
     "locked": true,
     "schema_version": 3,
     "solution": false,
     "task": false
    }
   },
   "outputs": [
    {
     "name": "stdout",
     "output_type": "stream",
     "text": [
      "Columns: tweet_id | timestamp | user_id | tweet | tweets_clean | tokens\n",
      "\n",
      "Tweet:\n",
      "OSINT people - please retweet, if possible. My friend is looking for women involved in OSINT. https://twitter.com/manisha_bot/status/1181594280336531457 …\n",
      "Tweet cleaned:\n",
      "osint people   please retweet  if possible  my friend is looking for women involved in osint\n",
      "Tweet tokens:\n",
      "['osint', 'peopl', 'retweet', 'possibl', 'friend', 'look', 'woman', 'involv', 'osint']\n"
     ]
    }
   ],
   "source": [
    "print('Columns: {}\\n'.format(' | '.join(df.columns.values)))\n",
    "\n",
    "print('Tweet:\\n{}'.format(df.loc[1, 'tweet']))\n",
    "print('Tweet cleaned:\\n{}'.format(df.loc[1, 'tweets_clean']))\n",
    "print('Tweet tokens:\\n{}'.format(X_tokens[1]))"
   ]
  },
  {
   "cell_type": "markdown",
   "metadata": {
    "deletable": false,
    "editable": false,
    "nbgrader": {
     "cell_type": "markdown",
     "checksum": "692a690690dcc488abec0c17b5b05a87",
     "grade": false,
     "grade_id": "cell-8d4e8f0168dbb438",
     "locked": true,
     "schema_version": 3,
     "solution": false,
     "task": false
    }
   },
   "source": [
    "### Create the dictionary\n",
    "\n",
    "Up to this point, we have transformed the raw text collection in a list of documents stored in `X_tokens`, where each document is a collection \n",
    "of the words that are most relevant for semantic analysis. Now, we need to convert these data (a list of token lists) into \n",
    "a numerical representation (a list of vectors, or a matrix). To do so, we will start using the tools provided by the `gensim` library. \n",
    "\n",
    "As a first step, we create a dictionary containing all tokens in our text corpus, and assigning an integer identifier to each one of them.\n",
    "\n"
   ]
  },
  {
   "cell_type": "code",
   "execution_count": 6,
   "metadata": {
    "deletable": false,
    "editable": false,
    "nbgrader": {
     "cell_type": "code",
     "checksum": "3f19e8874e20d8150fe93281a2db15b7",
     "grade": false,
     "grade_id": "cell-03d4bb175559cc13",
     "locked": true,
     "schema_version": 3,
     "solution": false,
     "task": false
    },
    "pycharm": {
     "name": "#%%\n"
    }
   },
   "outputs": [],
   "source": [
    "dictionary = gensim.corpora.Dictionary(X_tokens)\n",
    "\n",
    "dictionary.filter_extremes(no_below=15, no_above=0.5, keep_n=I)\n",
    "\n",
    "I = len(dictionary)"
   ]
  },
  {
   "cell_type": "markdown",
   "metadata": {
    "deletable": false,
    "editable": false,
    "nbgrader": {
     "cell_type": "markdown",
     "checksum": "4e629d7fb4b93325afe24a5c3236da48",
     "grade": false,
     "grade_id": "cell-18134a5f180dd2af",
     "locked": true,
     "schema_version": 3,
     "solution": false,
     "task": false
    }
   },
   "source": [
    "### Create Bag of Words (BoW): Numerical version of documents\n",
    "In the second step, let us create a numerical version of our corpus using the `doc2bow` method. In general, \n",
    "`D.doc2bow(token_list)` transforms any list of tokens into a list of tuples `(token_id, n)`, one per each token in \n",
    "`token_list`, where `token_id` is the token identifier (according to dictionary `D`) and `n` is the number of occurrences \n",
    "of such token in `token_list`. \n",
    "\n",
    "*Exercise:* Apply the `doc2bow` method from gensim dictionary `D`, to all tokens in every document in `X_tokens`. \n",
    "The result must be a new list named `X_bow` where each element is a list of tuples `(token_id, number_of_occurrences)`."
   ]
  },
  {
   "cell_type": "code",
   "execution_count": 7,
   "metadata": {
    "deletable": false,
    "editable": false,
    "nbgrader": {
     "cell_type": "code",
     "checksum": "ffc8edea62b75d82413f9ce87ae8760e",
     "grade": false,
     "grade_id": "cell-604e49d0f8178c3a",
     "locked": true,
     "schema_version": 3,
     "solution": false,
     "task": false
    },
    "pycharm": {
     "name": "#%%\n"
    }
   },
   "outputs": [],
   "source": [
    "X_bow = list()\n",
    "keep_tweet = list()\n",
    "for tweet in X_tokens:\n",
    "    tweet_bow = dictionary.doc2bow(tweet)\n",
    "    if len(tweet_bow) > 1:\n",
    "        X_bow.append(tweet_bow)\n",
    "        keep_tweet.append(True)\n",
    "    else:\n",
    "        keep_tweet.append(False)\n",
    "\n",
    "df_data = df[keep_tweet]\n",
    "\n",
    "N = len(df_data)\n"
   ]
  },
  {
   "cell_type": "markdown",
   "metadata": {
    "deletable": false,
    "editable": false,
    "nbgrader": {
     "cell_type": "markdown",
     "checksum": "a4b2ac66bed6502ec2eec8ec5360c065",
     "grade": false,
     "grade_id": "cell-c4630c52351d0165",
     "locked": true,
     "schema_version": 3,
     "solution": false,
     "task": false
    }
   },
   "source": [
    "Finally, we transform the BoW representation `X_bow` into a matrix, namely `X_matrix`, in which the i-th row and j-th column represents the \n",
    "number of occurrences of the j-th word of the dictionary in the i-th document. This will be the matrix used in the algorithm."
   ]
  },
  {
   "cell_type": "code",
   "execution_count": 8,
   "metadata": {
    "deletable": false,
    "editable": false,
    "nbgrader": {
     "cell_type": "code",
     "checksum": "9707f11aaf83852af689c4c447d8cc60",
     "grade": false,
     "grade_id": "cell-1dcdadbb79a36386",
     "locked": true,
     "schema_version": 3,
     "solution": false,
     "task": false
    },
    "pycharm": {
     "name": "#%%\n"
    }
   },
   "outputs": [
    {
     "name": "stdout",
     "output_type": "stream",
     "text": [
      "N: 5568 I: 120\n"
     ]
    }
   ],
   "source": [
    "X_matrix = np.zeros([N, I])\n",
    "for i, doc_bow in enumerate(X_bow):\n",
    "    word_list = list()\n",
    "    for word in doc_bow:\n",
    "        X_matrix[i, word[0]] = word[1]\n",
    "\n",
    "        \n",
    "print('N: {} I: {}'.format(N, I))"
   ]
  },
  {
   "cell_type": "markdown",
   "metadata": {
    "deletable": false,
    "editable": false,
    "nbgrader": {
     "cell_type": "markdown",
     "checksum": "191d402e6ecf2adc86a9f06a4d424170",
     "grade": false,
     "grade_id": "cell-6685ef56e4c992b7",
     "locked": true,
     "schema_version": 3,
     "solution": false,
     "task": false
    }
   },
   "source": [
    "### Exercise 1: Analytical forms of different Gibbs sampling algorithms"
   ]
  },
  {
   "cell_type": "markdown",
   "metadata": {
    "deletable": false,
    "editable": false,
    "nbgrader": {
     "cell_type": "markdown",
     "checksum": "b738f850d92096b31b588106451c8086",
     "grade": false,
     "grade_id": "cell-bd137a204ec874cf",
     "locked": true,
     "schema_version": 3,
     "solution": false,
     "task": false
    }
   },
   "source": [
    "1. Algorithm 1"
   ]
  },
  {
   "cell_type": "markdown",
   "metadata": {},
   "source": [
    "1. $p(\\pi | X, Z, \\theta)$\n",
    "\n",
    "$p(\\pi | X, Z, \\theta) = p(\\pi | Z)$\\\n",
    "$p(\\pi | Z) \\propto p(\\pi , Z) = p(\\pi | \\alpha) p(Z | \\pi)$\\\n",
    "\n",
    "$ = Dir(\\pi | \\alpha) \\prod_{n} p(Z_{n} | \\pi)$\\\n",
    "$ = Dir(\\pi | \\alpha) \\prod_{n} \\prod_{k} \\pi_{k}^{[Z_{n} = k]}$\\\n",
    "\n",
    "Now considering $m_{k} = \\sum_{n} [Z_{n} = k]$\\\n",
    "$ = Dir(\\pi | \\alpha)  \\prod_{k} \\pi_{k}^{m_{k}}$\n",
    "\n",
    "$ = \\frac{1}{\\beta(\\alpha)} \\prod_{k} \\pi_{k}^{\\alpha_{k}  - 1}  \\prod_{k} \\pi_{k}^{m_{k}}$\\\n",
    "\n",
    "$p(\\pi | X, Z, \\theta) = Dir(\\pi | \\{ \\alpha_{k} + m_{k}\\})$\n",
    "\n",
    "\n",
    "\n",
    "\n"
   ]
  },
  {
   "cell_type": "markdown",
   "metadata": {},
   "source": [
    "2. $p(\\theta_{k} | X, Z, \\pi, \\theta_{-k})$\n",
    "\n",
    "$p(\\theta_{k} | X, Z, \\pi, \\theta_{-k}) = p(\\theta_{k} | Z, X)$\n",
    "\n",
    "$p(\\theta_{k} | X, Z) \\propto p(\\theta_{k}, X | Z)$\\\n",
    "$ = p(\\theta_{k} | \\gamma) p(X|\\theta_{k}, Z)$\\\n",
    "$ = Dir(\\theta_k | \\gamma) \\prod_{n}^{N} \\prod_{j}^{W_{n}} Cat(X_{nj} | \\theta_{k})^{[Z_{n} = k]}$\\\n",
    "$ = Dir(\\theta_k | \\gamma) \\prod_{n}^{N} \\prod_{j}^{W_{n}} \\prod_{m}^{|I|} Cat(X_{nj} | \\theta_{k})^{[Z_{n} = k][X_{nj} = m]}$\n",
    "\n",
    "Consider $c_{km} = \\sum_{n} \\sum_{j} [Z_{n} = k][X_{nj} = m]$\\\n",
    "$ = Dir(\\theta_k | \\gamma) \\prod_{m}^{|I|}  \\theta_{km})^{c_{km}}$\n",
    "\n",
    "$ = Dir(\\theta_k | \\{\\gamma_{m} + c_{km}\\})$"
   ]
  },
  {
   "cell_type": "markdown",
   "metadata": {},
   "source": [
    "3. $p(Z_{n} | Z_{-n}, X, \\pi, \\theta)$\n",
    "\n",
    "$p(Z_{n} | Z_{-n}, X, \\pi, \\theta) = p(Z_{n} | X_{n}, \\pi, \\theta)$\n",
    "\n",
    "$ = \\frac{p(Z_{n} = k, X_{n}, | \\pi, \\theta)}{\\sum_{k^{'}}p(Z_{n} = k, X_{n}, | \\pi, \\theta) }$\n",
    " \n",
    "Numerator can be changed as $p(Z_{n} = k, X_{n}, | \\pi, \\theta) = p(Z_{n} = k | \\pi) p(X_{n} | \\theta_{Z_{n}})$\n",
    "\n",
    "Again $p(Z_{n} = k | \\pi) = \\pi_{k}$\n",
    "\n",
    "And $p(X_{n} | \\theta_{Z_{n}}) = \\prod_{j} \\prod_{m} \\theta_{km}^{[X_{nj} = m]}$\n",
    "\n",
    "Substituting the same in previous expression\\\n",
    "$ = \\frac{\\pi_{k} \\prod_{j} \\prod_{m} \\theta_{km}^{[X_{nj} = m]}}{\\sum_{k^{'}} \\pi_{k^{'}} \\prod_{j} \\prod_{m} \\theta_{km}^{[X_{nj} = m]}}$"
   ]
  },
  {
   "cell_type": "markdown",
   "metadata": {
    "deletable": false,
    "editable": false,
    "nbgrader": {
     "cell_type": "markdown",
     "checksum": "c893dd9bfac74e3ababe54b92302a637",
     "grade": false,
     "grade_id": "cell-a0cf64e5592e1f66",
     "locked": true,
     "points": 1,
     "schema_version": 3,
     "solution": false,
     "task": true
    }
   },
   "source": [
    "YOUR ANSWER GOES HERE"
   ]
  },
  {
   "cell_type": "markdown",
   "metadata": {
    "deletable": false,
    "editable": false,
    "nbgrader": {
     "cell_type": "markdown",
     "checksum": "45e85d2781317fd59c39218cdd6a5ad9",
     "grade": false,
     "grade_id": "cell-1a22001a59773e99",
     "locked": true,
     "schema_version": 3,
     "solution": false,
     "task": false
    }
   },
   "source": [
    "2. Algorithm 2 "
   ]
  },
  {
   "cell_type": "markdown",
   "metadata": {
    "deletable": false,
    "editable": false,
    "nbgrader": {
     "cell_type": "markdown",
     "checksum": "c6602d4712e2c9b43084c00fde8cb29c",
     "grade": false,
     "grade_id": "cell-4c70e839cd911953",
     "locked": true,
     "points": 1,
     "schema_version": 3,
     "solution": false,
     "task": true
    }
   },
   "source": [
    "YOUR ANSWER GOES HERE"
   ]
  },
  {
   "cell_type": "markdown",
   "metadata": {
    "deletable": false,
    "editable": false,
    "nbgrader": {
     "cell_type": "markdown",
     "checksum": "816a171f537ff6fa6a7e63d7cf07075a",
     "grade": false,
     "grade_id": "cell-249cba4465e218e7",
     "locked": true,
     "schema_version": 3,
     "solution": false,
     "task": false
    }
   },
   "source": [
    "2. Algorithm 3"
   ]
  },
  {
   "cell_type": "markdown",
   "metadata": {},
   "source": [
    "If we integrate out the cluster means θk and mixture weights from the margial distribution of cluster assignment"
   ]
  },
  {
   "cell_type": "markdown",
   "metadata": {},
   "source": [
    "$$\n",
    "\\begin{array}{c}\n",
    "p\\left(z_{i}=k \\mid z_{\\neg i}, \\pi, \\theta_{1}, \\theta_{2}, \\theta_{3}, \\sigma, \\mathbf{x}, \\alpha\\right) \\\\\n",
    "p\\left(z_{i} \\mid z_{\\neg i}, \\sigma, \\mathbf{x}, \\alpha\\right)\n",
    "\\end{array}\n",
    "$$"
   ]
  },
  {
   "cell_type": "markdown",
   "metadata": {},
   "source": [
    "By the conditional independence, we can factorize this marginal distribution\n",
    "\n",
    "\n",
    "$$\n",
    "\\begin{aligned}\n",
    "p\\left(z_{i}=k \\mid z_{\\neg i}, \\sigma, \\mathbf{x}, \\alpha\\right) & \\propto p\\left(z_{i}=k \\mid x_{i}, z_{\\neg i}, \\sigma, \\mathbf{x}_{\\neg i}, \\alpha\\right) \\\\\n",
    "&=p\\left(z_{i}=k \\mid z_{\\neg i}, \\sigma, \\mathbf{x}_{\\neg i}, \\alpha\\right) p\\left(x_{i} \\mid z, \\sigma, \\mathbf{x}_{\\neg i}, \\alpha\\right) \\\\\n",
    "&=p\\left(z_{i}=k \\mid z_{\\neg i}, \\alpha\\right) p\\left(x_{i} \\mid z, \\mathbf{x}_{\\neg i}, \\sigma\\right) \\\\\n",
    "&=p\\left(z_{i}=k \\mid z_{\\neg i}, \\alpha\\right) p\\left(x_{i} \\mid z_{i}=k, z_{\\neg i}, x_{\\neg_{i}}, \\sigma\\right) \\\\\n",
    "&=p\\left(z_{i}=k \\mid z_{\\neg i}, \\alpha\\right) p\\left(x_{i} \\mid\\left\\{x_{j} \\mid z_{j}=k, j \\neq i\\right\\}, \\sigma\\right)\n",
    "\\end{aligned}\n",
    "$$"
   ]
  },
  {
   "cell_type": "markdown",
   "metadata": {},
   "source": [
    "Because we are using a symmetric Dirichlet prior,  the predictive likelihood of a Dirichlet-categorical distribution. This is given by:\n",
    "$$\n",
    "p\\left(z_{i}=k \\mid z_{i}, \\alpha\\right)=\\frac{N_{k}^{-i}+\\alpha / K}{N-1+\\alpha}\n",
    "$$"
   ]
  },
  {
   "cell_type": "markdown",
   "metadata": {},
   "source": [
    " is the number of observation assigned to k (except xi)\n",
    "$$\n",
    "N_{k}^{-i}=\\sum_{j \\neq i} \\delta\\left(z_{j}, k\\right)\n",
    "$$"
   ]
  },
  {
   "cell_type": "markdown",
   "metadata": {},
   "source": [
    "The second term is the predictive likelihood that point xi is distributed according to cluster k (given the data currently in cluster k)\n",
    "\n",
    "$$\n",
    "\\begin{array}{c}\n",
    "p\\left(x_{i} \\mid\\left\\{x_{j} \\mid z_{j}=k, j \\neq i\\right\\}, \\sigma\\right)=\\mathcal{N}\\left(x_{i} \\mid \\mu_{k}, \\sigma_{k}^{2}+\\sigma^{2}\\right) \\\\\n",
    "\\sigma_{k}^{2}=\\left(\\frac{N_{k}^{-i}}{\\sigma^{2}}+\\frac{1}{\\lambda_{2}^{2}}\\right)^{-1} \\\\\n",
    "\\mu_{k}=\\sigma_{k}^{2}\\left(\\frac{\\lambda_{1}}{\\lambda_{2}^{2}}+\\frac{N_{k}^{-i} \\cdot \\bar{x}_{k}^{-i}}{\\sigma^{2}}\\right)\n",
    "\\end{array}\n",
    "$$"
   ]
  },
  {
   "cell_type": "markdown",
   "metadata": {},
   "source": [
    "Sampling $$\n",
    "z_{i} \\sim \\frac{1}{Z_{i}} \\sum_{k=1}^{K}\\left(N_{k}^{-i}+\\alpha / K\\right) f_{k}\\left(x_{i}\\right) \\delta\\left(z_{i}, k\\right)\n",
    "$$"
   ]
  },
  {
   "cell_type": "markdown",
   "metadata": {},
   "source": [
    "Normalizing constant $$\n",
    "Z_{i}=\\sum_{k=1}^{K}\\left(N_{k}^{-i}+\\alpha / K\\right) f_{k}\\left(x_{i}\\right)\n",
    "$$"
   ]
  },
  {
   "cell_type": "markdown",
   "metadata": {
    "deletable": false,
    "editable": false,
    "nbgrader": {
     "cell_type": "markdown",
     "checksum": "d1efcf16681516e09c1f3ded5be6629d",
     "grade": false,
     "grade_id": "cell-03e5cf8a5ef2559c",
     "locked": true,
     "points": 1,
     "schema_version": 3,
     "solution": false,
     "task": true
    }
   },
   "source": [
    "YOUR ANSWER GOES HERE"
   ]
  },
  {
   "cell_type": "markdown",
   "metadata": {
    "deletable": false,
    "editable": false,
    "nbgrader": {
     "cell_type": "markdown",
     "checksum": "f8ab4d655d035ca5af6f1c83e8e6e7e5",
     "grade": false,
     "grade_id": "cell-3e87e277d4ac56d4",
     "locked": true,
     "schema_version": 3,
     "solution": false,
     "task": false
    }
   },
   "source": [
    "## Exercise 2\n",
    "Implement the three algorithms in the boxes below"
   ]
  },
  {
   "cell_type": "code",
   "execution_count": 9,
   "metadata": {
    "deletable": false,
    "editable": false,
    "nbgrader": {
     "cell_type": "code",
     "checksum": "f07f7756e593ecbed300507b9e5c5579",
     "grade": false,
     "grade_id": "cell-291dcf03c236ebe6",
     "locked": true,
     "schema_version": 3,
     "solution": false,
     "task": false
    }
   },
   "outputs": [],
   "source": [
    "def compute_lset(ns):\n",
    "    return scipy.special.logsumexp(ns)"
   ]
  },
  {
   "cell_type": "markdown",
   "metadata": {},
   "source": [
    "### Exercise 2.1: Implement the log likelihood of X"
   ]
  },
  {
   "cell_type": "markdown",
   "metadata": {},
   "source": [
    "We provide you with the method to initialize the parameters"
   ]
  },
  {
   "cell_type": "code",
   "execution_count": 10,
   "metadata": {},
   "outputs": [],
   "source": [
    "def initialize_parameters(N, K, alpha_v, gamma_v) -> Tuple[np.array, np.array, np.array]:\n",
    "    pi_vector = np.random.dirichlet(alpha_v, size=1).flatten()  # [, K]\n",
    "    Z_matrix = np.random.multinomial(n=1, pvals=pi_vector, size=N)  # One hot encoding Nx K\n",
    "    theta_matrix = np.random.dirichlet(gamma_v, size=K)  # [K, I]\n",
    "    return pi_vector, theta_matrix, Z_matrix"
   ]
  },
  {
   "cell_type": "code",
   "execution_count": 11,
   "metadata": {
    "deletable": false,
    "nbgrader": {
     "cell_type": "code",
     "checksum": "595576347adef948b7b623a55d08d925",
     "grade": false,
     "grade_id": "cell-2a3b9f88a223383c",
     "locked": false,
     "schema_version": 3,
     "solution": true,
     "task": false
    }
   },
   "outputs": [],
   "source": [
    "def log_likelihood_X(X, Z, theta_matrix):\n",
    "    log_lik = 0\n",
    "    for n in range(N):\n",
    "        z_n = np.argmax(Z[n,:])\n",
    "        for i in range(I):\n",
    "            log_lik += X[n][i] * np.log(theta_matrix[z_n][i])\n",
    "    return log_lik"
   ]
  },
  {
   "cell_type": "code",
   "execution_count": 12,
   "metadata": {
    "deletable": false,
    "editable": false,
    "nbgrader": {
     "cell_type": "code",
     "checksum": "5ef186843dcec54e065af951d631039e",
     "grade": true,
     "grade_id": "cell-fd0f9c0103c8c605",
     "locked": true,
     "points": 1,
     "schema_version": 3,
     "solution": false,
     "task": false
    }
   },
   "outputs": [
    {
     "name": "stdout",
     "output_type": "stream",
     "text": [
      "log_lik: -120602.8067148832\n"
     ]
    }
   ],
   "source": [
    "np.random.seed(1234)\n",
    "\n",
    "alpha_v=1*np.ones(K)\n",
    "gamma_v=np.ones(I)\n",
    "\n",
    "pi_vector, theta_matrix, Z_matrix =  initialize_parameters(N, K, alpha_v, gamma_v)\n",
    "\n",
    "log_lik = log_likelihood_X(X_matrix, Z_matrix, theta_matrix)\n",
    "print(f'log_lik: {log_lik.sum()}')\n",
    "assert math.isclose(log_lik,-120602.80 , rel_tol=1e-2)"
   ]
  },
  {
   "cell_type": "markdown",
   "metadata": {
    "deletable": false,
    "editable": false,
    "nbgrader": {
     "cell_type": "markdown",
     "checksum": "6e082affdfe959649dfb8f5ca125c13b",
     "grade": false,
     "grade_id": "cell-e30869bac391215c",
     "locked": true,
     "schema_version": 3,
     "solution": false,
     "task": false
    }
   },
   "source": [
    "### Exercise 2.2: Implement the posterior distributions needeed for Algorithm 1"
   ]
  },
  {
   "cell_type": "code",
   "execution_count": 13,
   "metadata": {
    "deletable": false,
    "nbgrader": {
     "cell_type": "code",
     "checksum": "e985b400ef20414eaf78b47aaeb275a5",
     "grade": false,
     "grade_id": "cell-2841f752cb30c4f4",
     "locked": false,
     "schema_version": 3,
     "solution": true,
     "task": false
    }
   },
   "outputs": [],
   "source": [
    "def pi_Z(z_matrix, alpha_v):\n",
    "    m_k = np.zeros_like(alpha_v)\n",
    "    for k in range(K):\n",
    "        m_k[k] = z_matrix[:,k].sum() \n",
    "    param = m_k + alpha_v\n",
    "    pi_sample = np.random.dirichlet(param)\n",
    "    return pi_sample\n",
    "\n",
    "def thetak_XZ(X, Z, k, gamma_v):\n",
    "    c_i = np.zeros_like(gamma_v)\n",
    "    for n in range(N):\n",
    "        for i in range(I):\n",
    "            c_i[i] += Z[n][k] * X[n][i]\n",
    "    param = c_i + gamma_v\n",
    "    thetak_sample = np.random.dirichlet(param)\n",
    "    return thetak_sample\n",
    "\n",
    "def f(probs):\n",
    "    K = len(probs)\n",
    "    a = np.zeros(K, dtype=np.int64)\n",
    "    q = np.random.choice(K, size=1, replace=True, p=probs)\n",
    "    a[q] = 1\n",
    "    return a\n",
    " \n",
    "def Z_pi_theta_xn(X, pi_vector, theta_matrix):\n",
    "    Z_probs = np.zeros((N, K))\n",
    "    Z_sample = np.zeros_like(Z_probs)\n",
    "    for n in range(N):\n",
    "        for k in range(K):\n",
    "            Z_probs[n][k] = pi_vector[k] * np.power(theta_matrix[k], X[n]).prod()\n",
    "        Z_probs[n, :] = Z_probs[n, :] / Z_probs[n, :].sum()\n",
    "    Z_probs = np.clip(Z_probs, 1e-250, None)\n",
    "    Z_sample = np.apply_along_axis(f, 1, Z_probs)\n",
    "    return  Z_probs, Z_sample\n"
   ]
  },
  {
   "cell_type": "code",
   "execution_count": 14,
   "metadata": {
    "deletable": false,
    "editable": false,
    "nbgrader": {
     "cell_type": "code",
     "checksum": "443cafb94dc78a5417bc1fccb2a0b124",
     "grade": true,
     "grade_id": "cell-9b7b0cba300a5f77",
     "locked": true,
     "points": 1,
     "schema_version": 3,
     "solution": false,
     "task": false
    }
   },
   "outputs": [
    {
     "name": "stdout",
     "output_type": "stream",
     "text": [
      "pi_sample: [0.04  0.209 0.114 0.322 0.316]\n"
     ]
    }
   ],
   "source": [
    "np.random.seed(1234)\n",
    "\n",
    "alpha_v=1*np.ones(K)\n",
    "gamma_v=np.ones(I)\n",
    "\n",
    "pi_vector, theta_matrix, Z_matrix =  initialize_parameters(N, K, alpha_v, gamma_v)\n",
    "\n",
    "pi_sample =  pi_Z(Z_matrix, alpha_v)\n",
    "\n",
    "print(f'pi_sample: {np.around(pi_sample, 3)}')\n",
    "assert math.isclose(pi_sample[2],0.114 , rel_tol=1e-2)\n",
    "\n",
    "\n",
    "\n"
   ]
  },
  {
   "cell_type": "code",
   "execution_count": 15,
   "metadata": {
    "deletable": false,
    "editable": false,
    "nbgrader": {
     "cell_type": "code",
     "checksum": "d102c0489a59f724016e0c2863cb3728",
     "grade": true,
     "grade_id": "cell-7328f30046d7433c",
     "locked": true,
     "points": 1,
     "schema_version": 3,
     "solution": false,
     "task": false
    }
   },
   "outputs": [
    {
     "name": "stdout",
     "output_type": "stream",
     "text": [
      "thetak_sample: [0.0097 0.0138 0.0132 0.0059 0.0252 0.0104 0.0024 0.014  0.0054 0.0072\n",
      " 0.0038 0.0101 0.0084 0.0078 0.0157 0.0142 0.0076 0.0168 0.0084 0.003\n",
      " 0.0119 0.0225 0.0137 0.0188 0.0108 0.0113 0.0145 0.0098 0.0048 0.0104\n",
      " 0.0041 0.0038 0.0095 0.0054 0.029  0.0215 0.0104 0.0075 0.007  0.0032\n",
      " 0.0042 0.0156 0.0162 0.005  0.0092 0.0021 0.0107 0.0148 0.0064 0.0049\n",
      " 0.0034 0.0033 0.0016 0.0072 0.0032 0.0071 0.0091 0.0049 0.0061 0.0045\n",
      " 0.009  0.0079 0.0151 0.0062 0.0027 0.0055 0.0086 0.0049 0.004  0.0182\n",
      " 0.0052 0.0183 0.0096 0.0014 0.0055 0.0018 0.0087 0.002  0.0086 0.018\n",
      " 0.0048 0.0013 0.0078 0.0037 0.0118 0.0112 0.0046 0.0032 0.0053 0.0089\n",
      " 0.0032 0.0017 0.0173 0.0027 0.0068 0.0064 0.01   0.0094 0.0084 0.0043\n",
      " 0.0062 0.0055 0.0089 0.0034 0.0026 0.0048 0.0088 0.0088 0.0054 0.0053\n",
      " 0.006  0.0056 0.0047 0.0061 0.0072 0.0148 0.0071 0.0067 0.0039 0.0118]\n"
     ]
    }
   ],
   "source": [
    "np.random.seed(1234)\n",
    "\n",
    "alpha_v=1*np.ones(K)\n",
    "gamma_v=np.ones(I)\n",
    "\n",
    "pi_vector, theta_matrix, Z_matrix =  initialize_parameters(N, K, alpha_v, gamma_v)\n",
    "\n",
    "\n",
    "thetak_sample = thetak_XZ(X_matrix, Z_matrix, 0, gamma_v)\n",
    "print(f'thetak_sample: {np.around(thetak_sample, 4)}')\n",
    "assert math.isclose(thetak_sample[0],0.0097 , rel_tol=1e-2)\n",
    "\n",
    "\n"
   ]
  },
  {
   "cell_type": "code",
   "execution_count": 16,
   "metadata": {
    "deletable": false,
    "editable": false,
    "nbgrader": {
     "cell_type": "code",
     "checksum": "0382189f6cb4eb43cd6951a5633162a3",
     "grade": true,
     "grade_id": "cell-62c7559d50b558a0",
     "locked": true,
     "points": 1,
     "schema_version": 3,
     "solution": false,
     "task": false
    }
   },
   "outputs": [
    {
     "name": "stdout",
     "output_type": "stream",
     "text": [
      "Z_probs[10]: [0.06983299 0.14951237 0.63694589 0.13975915 0.00394961]\n"
     ]
    }
   ],
   "source": [
    "np.random.seed(1234)\n",
    "\n",
    "alpha_v=1*np.ones(K)\n",
    "gamma_v=np.ones(I)\n",
    "\n",
    "pi_vector, theta_matrix, z_vector =  initialize_parameters(N, K, alpha_v, gamma_v)\n",
    "\n",
    "Z_probs, Z = Z_pi_theta_xn(X_matrix, pi_vector, theta_matrix)\n",
    "print(f'Z_probs[10]: {Z_probs[10]}')\n",
    "assert math.isclose(Z_probs[10, 2],0.63694589, rel_tol=1e-2)\n",
    "\n",
    "\n"
   ]
  },
  {
   "cell_type": "markdown",
   "metadata": {},
   "source": [
    "### Exercise 2.3: Implement the posterior distributions needeed for Algorithm 1"
   ]
  },
  {
   "cell_type": "code",
   "execution_count": 17,
   "metadata": {
    "deletable": false,
    "nbgrader": {
     "cell_type": "code",
     "checksum": "8d4187ff83ad0804c298c94df7705698",
     "grade": false,
     "grade_id": "cell-b6548bf4d7e1372c",
     "locked": false,
     "schema_version": 3,
     "solution": true,
     "task": false
    }
   },
   "outputs": [],
   "source": [
    "def fit_no_collapsed(X, K, alpha_v, gamma_v, burn_in, n_iters):\n",
    "    N, I = X.shape\n",
    "    # Initialize\n",
    "    pi_vector, theta_matrix, Z_matrix =  initialize_parameters(N, K, alpha_v, gamma_v)\n",
    "    z_map = np.zeros([N, K])\n",
    "\n",
    "    log_x_list = []\n",
    "    \n",
    "    for it in range(n_iters):\n",
    "        pi_vector = pi_Z(Z_matrix, alpha_v)\n",
    "        for k in range(K):\n",
    "            theta_matrix[k, :] = thetak_XZ(X, Z_matrix, k, gamma_v)\n",
    "\n",
    "        Z_probs, Z_matrix = Z_pi_theta_xn(X, pi_vector, theta_matrix)\n",
    "\n",
    "        log_lik_it = log_likelihood_X(X, Z_matrix, theta_matrix)\n",
    "        log_x_list.append(log_lik_it)\n",
    "        print('ITER: {} | log_lik: {}'.format(str(it), log_lik_it))\n",
    "        if it > burn_in: \n",
    "            z_map += Z_matrix\n",
    "    Zk = np.argmax(z_map, axis=-1)\n",
    "    z_map = np.zeros([N, K])\n",
    "    for i in range(N):\n",
    "        z_map[i, Zk[i]] = 1.\n",
    "    return pi_vector, theta_matrix, Z_matrix, z_map, log_x_list"
   ]
  },
  {
   "cell_type": "code",
   "execution_count": 18,
   "metadata": {
    "deletable": false,
    "editable": false,
    "nbgrader": {
     "cell_type": "code",
     "checksum": "f54ca196b8f7562c47ab900af7fa43b3",
     "grade": false,
     "grade_id": "cell-69ab9b60a9c30d79",
     "locked": true,
     "schema_version": 3,
     "solution": false,
     "task": false
    }
   },
   "outputs": [
    {
     "name": "stdout",
     "output_type": "stream",
     "text": [
      "ITER: 0 | log_lik: -102556.70707606722\n",
      "ITER: 1 | log_lik: -101445.8881058022\n",
      "ITER: 2 | log_lik: -99603.80674701172\n",
      "ITER: 3 | log_lik: -98438.3857817297\n",
      "ITER: 4 | log_lik: -97465.26552521584\n",
      "ITER: 5 | log_lik: -96852.3888476118\n",
      "ITER: 6 | log_lik: -96385.03897160491\n",
      "ITER: 7 | log_lik: -95992.65377075791\n",
      "ITER: 8 | log_lik: -95949.44446492197\n",
      "ITER: 9 | log_lik: -95777.06373472894\n",
      "ITER: 10 | log_lik: -95725.82411663274\n",
      "ITER: 11 | log_lik: -95766.77233808726\n",
      "ITER: 12 | log_lik: -95608.48934270734\n",
      "ITER: 13 | log_lik: -95651.22110707502\n",
      "ITER: 14 | log_lik: -95603.81475217226\n",
      "ITER: 15 | log_lik: -95557.09853408797\n",
      "ITER: 16 | log_lik: -95405.4877890056\n",
      "ITER: 17 | log_lik: -95477.8544801187\n",
      "ITER: 18 | log_lik: -95391.24764089429\n",
      "ITER: 19 | log_lik: -95516.98664773522\n",
      "ITER: 20 | log_lik: -95425.56711129825\n",
      "ITER: 21 | log_lik: -95378.60266203199\n",
      "ITER: 22 | log_lik: -95345.54597836763\n",
      "ITER: 23 | log_lik: -95290.03355410692\n",
      "ITER: 24 | log_lik: -95270.737694179\n",
      "ITER: 25 | log_lik: -95138.23952785785\n",
      "ITER: 26 | log_lik: -95161.06539449072\n",
      "ITER: 27 | log_lik: -95061.7683129399\n",
      "ITER: 28 | log_lik: -95039.688351369\n",
      "ITER: 29 | log_lik: -95189.41488941506\n",
      "ITER: 30 | log_lik: -95147.44224847904\n",
      "ITER: 31 | log_lik: -95163.34356373154\n",
      "ITER: 32 | log_lik: -95113.41582558432\n",
      "ITER: 33 | log_lik: -95255.23915524638\n",
      "ITER: 34 | log_lik: -95105.98324800549\n",
      "ITER: 35 | log_lik: -95100.53411487304\n",
      "ITER: 36 | log_lik: -95131.74029884544\n",
      "ITER: 37 | log_lik: -95016.27744277522\n",
      "ITER: 38 | log_lik: -95123.37019938904\n",
      "ITER: 39 | log_lik: -95062.89981950304\n",
      "ITER: 40 | log_lik: -95143.69984313214\n",
      "ITER: 41 | log_lik: -95240.41465251903\n",
      "ITER: 42 | log_lik: -95163.31435034596\n",
      "ITER: 43 | log_lik: -95201.72759471422\n",
      "ITER: 44 | log_lik: -95154.86966523065\n",
      "ITER: 45 | log_lik: -95086.89424492394\n",
      "ITER: 46 | log_lik: -95174.32146700773\n",
      "ITER: 47 | log_lik: -95059.13446335836\n",
      "ITER: 48 | log_lik: -95078.5944427917\n",
      "ITER: 49 | log_lik: -95037.50335824366\n",
      "ITER: 50 | log_lik: -95116.69958322414\n",
      "ITER: 51 | log_lik: -95071.64382299015\n",
      "ITER: 52 | log_lik: -95085.18911004288\n",
      "ITER: 53 | log_lik: -95045.13429029955\n",
      "ITER: 54 | log_lik: -95072.7481516869\n",
      "ITER: 55 | log_lik: -95023.60771970886\n",
      "ITER: 56 | log_lik: -95003.21091450575\n",
      "ITER: 57 | log_lik: -95070.67543468786\n",
      "ITER: 58 | log_lik: -95081.97762116943\n",
      "ITER: 59 | log_lik: -95118.21590092896\n",
      "ITER: 60 | log_lik: -95164.93820649823\n",
      "ITER: 61 | log_lik: -95133.16195426274\n",
      "ITER: 62 | log_lik: -95069.95267414484\n",
      "ITER: 63 | log_lik: -95096.14988838621\n",
      "ITER: 64 | log_lik: -95063.23365526712\n",
      "ITER: 65 | log_lik: -95080.37091240477\n",
      "ITER: 66 | log_lik: -95089.19692484042\n",
      "ITER: 67 | log_lik: -95002.88478728494\n",
      "ITER: 68 | log_lik: -94896.33288262135\n",
      "ITER: 69 | log_lik: -95001.74638892426\n",
      "ITER: 70 | log_lik: -95007.18996897542\n",
      "ITER: 71 | log_lik: -94968.62321617687\n",
      "ITER: 72 | log_lik: -95031.91162982355\n",
      "ITER: 73 | log_lik: -94949.14849213419\n",
      "ITER: 74 | log_lik: -95129.68705709172\n",
      "ITER: 75 | log_lik: -95074.38916844735\n",
      "ITER: 76 | log_lik: -95073.36258091714\n",
      "ITER: 77 | log_lik: -95156.46588472748\n",
      "ITER: 78 | log_lik: -95118.65614490246\n",
      "ITER: 79 | log_lik: -95085.98541871831\n"
     ]
    }
   ],
   "source": [
    "np.random.seed(1234)\n",
    "\n",
    "alpha_v=1*np.ones(K)\n",
    "gamma_v=np.ones(I)\n",
    "\n",
    "pi_vector, theta_matrix, Z_matrix, z_map, log_x_list = fit_no_collapsed(X_matrix, K, alpha_v, gamma_v, burn_in=20, n_iters=80)"
   ]
  },
  {
   "cell_type": "markdown",
   "metadata": {
    "deletable": false,
    "editable": false,
    "nbgrader": {
     "cell_type": "markdown",
     "checksum": "7e5345e52e80591b493cc4842c8e0ca4",
     "grade": false,
     "grade_id": "cell-87e8af8d45330bfb",
     "locked": true,
     "schema_version": 3,
     "solution": false,
     "task": false
    }
   },
   "source": [
    "#### Exercise 2.3.1, 2.3.2, 2.3.3"
   ]
  },
  {
   "cell_type": "code",
   "execution_count": 19,
   "metadata": {
    "deletable": false,
    "editable": false,
    "nbgrader": {
     "cell_type": "code",
     "checksum": "a39ba828cf6d6c4ae05cb59503c86869",
     "grade": false,
     "grade_id": "cell-0bfbb0f86368410d",
     "locked": true,
     "schema_version": 3,
     "solution": false,
     "task": false
    }
   },
   "outputs": [
    {
     "data": {
      "text/plain": [
       "Text(0, 0.5, '$log p(X|\\\\Theta)$')"
      ]
     },
     "execution_count": 19,
     "metadata": {},
     "output_type": "execute_result"
    },
    {
     "data": {
      "image/png": "[encoded data removed]",
      "text/plain": [
       "<Figure size 432x288 with 1 Axes>"
      ]
     },
     "metadata": {
      "needs_background": "light"
     },
     "output_type": "display_data"
    }
   ],
   "source": [
    "import matplotlib.pyplot as plt\n",
    "data = plt.plot(log_x_list)\n",
    "plt.xlabel('Iterations')\n",
    "plt.ylabel('$log p(X|\\Theta)$')"
   ]
  },
  {
   "cell_type": "code",
   "execution_count": 20,
   "metadata": {},
   "outputs": [],
   "source": [
    "data_algo_1 = log_x_list"
   ]
  },
  {
   "cell_type": "code",
   "execution_count": 21,
   "metadata": {
    "deletable": false,
    "editable": false,
    "nbgrader": {
     "cell_type": "code",
     "checksum": "4bf4d530a4117f0d6eff8e82f08be683",
     "grade": true,
     "grade_id": "cell-551dd819c6460101",
     "locked": true,
     "points": 3,
     "schema_version": 3,
     "solution": false,
     "task": false
    }
   },
   "outputs": [
    {
     "name": "stdout",
     "output_type": "stream",
     "text": [
      "log_px:\n",
      " -95085.9854\n",
      "pi_vector:\n",
      " [0.0236 0.212  0.22   0.2724 0.272 ]\n",
      "theta_matrix[0,:]:\n",
      " [0.001 0.001 0.002 0.    0.001 0.001 0.    0.003 0.003 0.    0.001 0.\n",
      " 0.005 0.004 0.    0.    0.    0.001 0.001 0.    0.    0.    0.003 0.\n",
      " 0.004 0.001 0.002 0.006 0.    0.001 0.001 0.    0.003 0.001 0.172 0.186\n",
      " 0.    0.003 0.002 0.002 0.    0.001 0.    0.    0.001 0.001 0.002 0.002\n",
      " 0.001 0.002 0.    0.001 0.004 0.001 0.002 0.001 0.    0.001 0.002 0.002\n",
      " 0.003 0.001 0.001 0.    0.003 0.001 0.001 0.001 0.    0.    0.001 0.001\n",
      " 0.001 0.    0.003 0.002 0.001 0.002 0.    0.001 0.001 0.003 0.001 0.001\n",
      " 0.    0.001 0.005 0.001 0.002 0.    0.002 0.001 0.001 0.    0.001 0.\n",
      " 0.004 0.152 0.    0.004 0.    0.004 0.004 0.    0.    0.001 0.003 0.\n",
      " 0.    0.001 0.002 0.    0.001 0.001 0.002 0.    0.197 0.    0.    0.142]\n",
      "Z_matrix[15,:]:\n",
      " [0 0 1 0 0]\n",
      "z_map[15,:]:\n",
      " [0. 1. 0. 0. 0.]\n"
     ]
    }
   ],
   "source": [
    "print(f'log_px:\\n {np.around(log_x_list[-1], 4)}')\n",
    "\n",
    "assert math.isclose(log_x_list[-1],-95130.3166, rel_tol=1e-2)\n",
    "\n",
    "print(f'pi_vector:\\n {np.around(pi_vector, 4)}')\n",
    "assert math.isclose(pi_vector[0],0.0236, rel_tol=1e-2)\n",
    "print(f'theta_matrix[0,:]:\\n {np.around(theta_matrix[0,:], 3)}')\n",
    "assert math.isclose(theta_matrix[0, -1],0.142, rel_tol=1e-2)\n",
    "print(f'Z_matrix[15,:]:\\n {np.around(Z_matrix[15,:], 3)}')\n",
    "assert math.isclose(Z_matrix[15, 2],1, rel_tol=1e-2)\n",
    "\n",
    "print(f'z_map[15,:]:\\n {np.around(z_map[15,:], 3)}')\n",
    "assert math.isclose(z_map[15, 1],1, rel_tol=1e-2)\n",
    "\n",
    "\n"
   ]
  },
  {
   "cell_type": "markdown",
   "metadata": {},
   "source": [
    "#### Exercise 2.3.4\n",
    "\n",
    "This Github repo might be useful: https://github.com/amueller/word_cloud"
   ]
  },
  {
   "cell_type": "code",
   "execution_count": null,
   "metadata": {},
   "outputs": [],
   "source": []
  },
  {
   "cell_type": "markdown",
   "metadata": {},
   "source": [
    "### Algorithm 2"
   ]
  },
  {
   "cell_type": "code",
   "execution_count": 22,
   "metadata": {
    "deletable": false,
    "editable": false,
    "nbgrader": {
     "cell_type": "code",
     "checksum": "8dc9523a27cd86f8fed53136ab678c53",
     "grade": false,
     "grade_id": "cell-ef41f3b4c60343a4",
     "locked": true,
     "schema_version": 3,
     "solution": false,
     "task": false
    }
   },
   "outputs": [],
   "source": [
    "def Z_XZTheta(X, Z, theta_matrix, alpha_v):\n",
    "    N, I = X.shape\n",
    "    K = theta_matrix.shape[0]\n",
    "    z_probs = np.zeros([N, K])\n",
    "    z_matrix = np.zeros([N, K])\n",
    "    alpha_sum =  np.sum(alpha_v)\n",
    "    z_sum = np.sum(Z, axis=0)\n",
    "    lik_X =np.exp(X @ np.log(theta_matrix.T))\n",
    "    for n in range(N):\n",
    "        z_n =  Z[n, :]\n",
    "        z_sum_n = z_sum - z_n\n",
    "        zn_Z = (z_sum_n + alpha_v)/(N -1 + alpha_sum)\n",
    "        z_probs_n_unnormalized = zn_Z * lik_X[n,:]\n",
    "        z_probs_n = (z_probs_n_unnormalized / np.sum(z_probs_n_unnormalized)).flatten()\n",
    "\n",
    "        z_n = np.random.multinomial(n=1, pvals=z_probs_n, size=1).flatten()\n",
    "\n",
    "        z_probs[n, :] = z_probs_n\n",
    "        z_matrix[n, :] = z_n\n",
    "        z_sum = z_sum_n + z_n\n",
    "    return z_probs, z_matrix\n"
   ]
  },
  {
   "cell_type": "code",
   "execution_count": 23,
   "metadata": {
    "deletable": false,
    "editable": false,
    "nbgrader": {
     "cell_type": "code",
     "checksum": "7851c81f78ef3c84c37f4034097b14c1",
     "grade": false,
     "grade_id": "cell-4bd3a3aabe5dc12f",
     "locked": true,
     "schema_version": 3,
     "solution": false,
     "task": false
    }
   },
   "outputs": [
    {
     "name": "stdout",
     "output_type": "stream",
     "text": [
      "z_probs[10,:]:\n",
      " [0.076 0.164 0.609 0.147 0.004]\n",
      "Z[10,:]:\n",
      " [0. 0. 1. 0. 0.]\n"
     ]
    }
   ],
   "source": [
    "np.random.seed(1234)\n",
    "\n",
    "alpha_v=1*np.ones(K)\n",
    "gamma_v=np.ones(I)\n",
    "\n",
    "pi_vector, theta_matrix, z_matrix =  initialize_parameters(N, K, alpha_v, gamma_v)\n",
    "\n",
    "\n",
    "z_probs, Z =  Z_XZTheta(X_matrix, z_matrix, theta_matrix, alpha_v)\n",
    "\n",
    "print(f'z_probs[10,:]:\\n {np.around(z_probs[10,:], 3)}')\n",
    "print(f'Z[10,:]:\\n {np.around(Z[10,:], 3)}')\n",
    "assert math.isclose(z_probs[10, -2],0.147, rel_tol=1e-2)\n",
    "assert math.isclose(Z[10,2],1, rel_tol=1e-2)"
   ]
  },
  {
   "cell_type": "code",
   "execution_count": 24,
   "metadata": {},
   "outputs": [],
   "source": [
    "def fit_collapsed_pi(X, K, alpha_v, gamma_v, burn_in, n_iters):\n",
    "    N, I = X.shape\n",
    "    # Initialize\n",
    "    pi_vector, theta_matrix, z_vector =  initialize_parameters(N, K, alpha_v, gamma_v)\n",
    "    z_map = np.zeros([N, K])\n",
    "    log_x_list = []\n",
    "\n",
    "    for it in range(n_iters):\n",
    "        for k in range(K):\n",
    "            theta_matrix[k, :] = thetak_XZ(X, z_vector, k, gamma_v)\n",
    "\n",
    "        z_probs, z_vector = Z_XZTheta(X, z_vector, theta_matrix, alpha_v)\n",
    "\n",
    "\n",
    "        log_lik_it = log_likelihood_X(X, z_vector, theta_matrix)\n",
    "        log_x_list.append(log_lik_it)\n",
    "        print('ITER: {} | log_lik: {}'.format(str(it), log_lik_it))\n",
    "        if it > burn_in: z_map += z_vector\n",
    "    Zk = np.argmax(z_map, axis=-1)\n",
    "    z_map = np.zeros([N, K])\n",
    "    for i in range(N):\n",
    "        z_map[i, Zk[i]] = 1.\n",
    "    return pi_vector, theta_matrix, z_vector, z_map, log_x_list"
   ]
  },
  {
   "cell_type": "code",
   "execution_count": 25,
   "metadata": {},
   "outputs": [
    {
     "name": "stdout",
     "output_type": "stream",
     "text": [
      "ITER: 0 | log_lik: -102559.13775768007\n",
      "ITER: 1 | log_lik: -101444.95518619442\n",
      "ITER: 2 | log_lik: -99857.75052971166\n",
      "ITER: 3 | log_lik: -98802.72557167934\n",
      "ITER: 4 | log_lik: -97944.53712724098\n",
      "ITER: 5 | log_lik: -97136.4644021177\n",
      "ITER: 6 | log_lik: -96737.02705846977\n",
      "ITER: 7 | log_lik: -96247.92952606556\n",
      "ITER: 8 | log_lik: -95853.82233481246\n",
      "ITER: 9 | log_lik: -95773.45116447515\n",
      "ITER: 10 | log_lik: -95622.5144382557\n",
      "ITER: 11 | log_lik: -95472.80112218249\n",
      "ITER: 12 | log_lik: -95522.3921689909\n",
      "ITER: 13 | log_lik: -95294.66412646713\n",
      "ITER: 14 | log_lik: -95383.29082012142\n",
      "ITER: 15 | log_lik: -95404.78467482638\n",
      "ITER: 16 | log_lik: -95281.21739551796\n",
      "ITER: 17 | log_lik: -95251.20506977361\n",
      "ITER: 18 | log_lik: -95339.14271425933\n",
      "ITER: 19 | log_lik: -95243.88874342809\n",
      "ITER: 20 | log_lik: -95248.85468193113\n",
      "ITER: 21 | log_lik: -95205.20776639697\n",
      "ITER: 22 | log_lik: -95225.4093787161\n",
      "ITER: 23 | log_lik: -95246.8255742146\n",
      "ITER: 24 | log_lik: -95251.81580696983\n",
      "ITER: 25 | log_lik: -95125.19286723327\n",
      "ITER: 26 | log_lik: -95159.9269310221\n",
      "ITER: 27 | log_lik: -95264.1753877291\n",
      "ITER: 28 | log_lik: -95167.72153768601\n",
      "ITER: 29 | log_lik: -95280.1092707919\n",
      "ITER: 30 | log_lik: -95127.18845438845\n",
      "ITER: 31 | log_lik: -95031.1994278681\n",
      "ITER: 32 | log_lik: -95104.71441432886\n",
      "ITER: 33 | log_lik: -95241.50344866737\n",
      "ITER: 34 | log_lik: -95103.84631604167\n",
      "ITER: 35 | log_lik: -95112.2487162364\n",
      "ITER: 36 | log_lik: -95162.77347820978\n",
      "ITER: 37 | log_lik: -95165.44842621646\n",
      "ITER: 38 | log_lik: -95147.48224270954\n",
      "ITER: 39 | log_lik: -95070.9217212752\n",
      "ITER: 40 | log_lik: -95071.70596160639\n",
      "ITER: 41 | log_lik: -95031.83921927557\n",
      "ITER: 42 | log_lik: -95081.66787222859\n",
      "ITER: 43 | log_lik: -95027.27947031484\n",
      "ITER: 44 | log_lik: -95108.73350284164\n",
      "ITER: 45 | log_lik: -95145.58253292383\n",
      "ITER: 46 | log_lik: -95212.68922479506\n",
      "ITER: 47 | log_lik: -95187.32874357593\n",
      "ITER: 48 | log_lik: -95122.10912858354\n",
      "ITER: 49 | log_lik: -95153.91218146074\n"
     ]
    }
   ],
   "source": [
    "np.random.seed(1234)\n",
    "\n",
    "alpha_v=1.0*np.ones(K)\n",
    "gamma_v=np.ones(I)\n",
    "\n",
    "pi_vector, theta_matrix, z_vector, z_map, log_x_list = fit_collapsed_pi(X_matrix, K, alpha_v, gamma_v, \n",
    "                                                                        burn_in=20, n_iters=50)"
   ]
  },
  {
   "cell_type": "code",
   "execution_count": 26,
   "metadata": {},
   "outputs": [
    {
     "data": {
      "text/plain": [
       "Text(0, 0.5, '$log p(X|\\\\Theta)$')"
      ]
     },
     "execution_count": 26,
     "metadata": {},
     "output_type": "execute_result"
    },
    {
     "data": {
      "image/png": "[encoded data removed]",
      "text/plain": [
       "<Figure size 432x288 with 1 Axes>"
      ]
     },
     "metadata": {
      "needs_background": "light"
     },
     "output_type": "display_data"
    }
   ],
   "source": [
    "import matplotlib.pyplot as plt\n",
    "data = plt.plot(log_x_list)\n",
    "plt.xlabel('Iterations')\n",
    "plt.ylabel('$log p(X|\\Theta)$')"
   ]
  },
  {
   "cell_type": "code",
   "execution_count": 27,
   "metadata": {},
   "outputs": [],
   "source": [
    "data_algo_2 = log_x_list"
   ]
  },
  {
   "cell_type": "markdown",
   "metadata": {
    "deletable": false,
    "editable": false,
    "nbgrader": {
     "cell_type": "markdown",
     "checksum": "729d8bd3ad5b88ac77ebfaff6cb93912",
     "grade": false,
     "grade_id": "cell-24f1ce2c27c03ce5",
     "locked": true,
     "schema_version": 3,
     "solution": false,
     "task": false
    }
   },
   "source": [
    "### Algorithm 3"
   ]
  },
  {
   "cell_type": "code",
   "execution_count": 28,
   "metadata": {},
   "outputs": [],
   "source": [
    "def beta_function(param_v):\n",
    "    denominator = scipy.special.gamma(np.sum(param_v))\n",
    "    print(denominator)\n",
    "    numerator = np.prod([scipy.special.gamma(p) for p in param_v])\n",
    "    return numerator / denominator\n",
    "\n",
    "\n",
    "def ratio_beta_function(gamma_v, count_v):\n",
    "    gamma_v = [int(g) for g in gamma_v.flatten()]\n",
    "    count_v = [int(g) for g in count_v.flatten()]\n",
    "    gamma_sum = np.sum(gamma_v)\n",
    "    Wn = np.sum(count_v)\n",
    "    num_terms = list()\n",
    "    for gamma_m, count_m in zip(gamma_v, count_v):\n",
    "        num_terms.append(np.prod([i for i in range(gamma_m, gamma_m + count_m)]))\n",
    "\n",
    "    num = np.prod(num_terms)\n",
    "\n",
    "    den = np.prod([j for j in range(gamma_sum, gamma_sum + Wn)])\n",
    "\n",
    "    return num / den\n",
    "\n",
    "\n",
    "def log_ratio_beta_function(gamma_v, count_v):\n",
    "    gamma_v = gamma_v.flatten()\n",
    "    gamma_sum = np.sum(gamma_v)\n",
    "    Wn = int(np.sum(count_v))\n",
    "    num_terms = list()\n",
    "    for gamma_m, count_m in zip(gamma_v, count_v):\n",
    "        if count_m == 0: continue\n",
    "        term_m = list(map(lambda x: np.log(x + gamma_m), list(range(count_m))))\n",
    "\n",
    "        num_terms.append(np.sum(term_m))\n",
    "    num = np.sum(num_terms)\n",
    "\n",
    "    den = np.sum([np.log(gamma_sum + j) for j in range(0, Wn)])\n",
    "\n",
    "    out = num - den\n",
    "    return out\n"
   ]
  },
  {
   "cell_type": "code",
   "execution_count": 29,
   "metadata": {
    "deletable": false,
    "editable": false,
    "nbgrader": {
     "cell_type": "code",
     "checksum": "801b43c18f3284d22a06bdda031aad60",
     "grade": false,
     "grade_id": "cell-30a5d4846061273f",
     "locked": true,
     "schema_version": 3,
     "solution": false,
     "task": false
    }
   },
   "outputs": [],
   "source": [
    "def zn_Z_function(z_matrix, n, alpha_v):\n",
    "    N = z_matrix.shape[0]\n",
    "    z_matrix_n = np.delete(z_matrix, n, axis=0)\n",
    "\n",
    "    count = np.sum(z_matrix_n, axis=0)\n",
    "\n",
    "    numerator = count + alpha_v\n",
    "    denominator = N - 1 + np.sum(alpha_v)\n",
    "    return numerator / denominator\n",
    "\n",
    "\n",
    "def gamma_pp_v_k(z_matrix_n, x_matrix_n, k, gamma_v):\n",
    "    z_k = (z_matrix_n[:, [k]].T == 1).flatten()\n",
    "    gamma_pp_v = gamma_v + np.sum(x_matrix_n[z_k, :], axis=0)  # [1, N-1] * [N-1, I]\n",
    "    return gamma_pp_v\n",
    "    \n",
    "def predictive_likelihood(z_matrix, X, n, gamma_v):\n",
    "    N, K = z_matrix.shape\n",
    "    z_matrix_n = np.delete(z_matrix, n, axis=0)\n",
    "    count_nm = X[n, :]  # [1, I]\n",
    "    x_matrix_n = np.delete(X, n, axis=0)\n",
    "    predictive_lik = np.zeros(K)\n",
    "    for k in range(K):\n",
    "        gamma_pp_v = gamma_pp_v_k(z_matrix_n, x_matrix_n, k, gamma_v)\n",
    "\n",
    "        predictive_lik[k] = np.exp(log_ratio_beta_function(gamma_pp_v, count_nm))\n",
    "\n",
    "    return predictive_lik"
   ]
  },
  {
   "cell_type": "code",
   "execution_count": 30,
   "metadata": {},
   "outputs": [],
   "source": [
    "def fit_collapsed_pi_theta(X, K, alpha_v, gamma_v, burn_in, n_iters):\n",
    "    N, I = X.shape\n",
    "    X = X.astype(int)\n",
    "    pi_vector, theta_matrix, z_vector =  initialize_parameters(N, K, alpha_v, gamma_v)\n",
    "    z_map = np.zeros([N, K])\n",
    "    z_probs = np.zeros([N, K])\n",
    "    log_x_list = []\n",
    "    for it in range(n_iters):\n",
    "        \n",
    "        for n in range(N):\n",
    "            zn_Z = zn_Z_function(z_vector, n, alpha_v)\n",
    "            pred_lik = predictive_likelihood(z_vector, X, n, gamma_v)\n",
    "            z_probs[n, :] = zn_Z * pred_lik / np.sum(zn_Z * pred_lik)\n",
    "\n",
    "            z_vector[n, :] = np.random.multinomial(n=1, pvals=z_probs[n, :], size=1)\n",
    "\n",
    "        for k in range(K):\n",
    "            theta_matrix[k,:] = thetak_XZ(X, z_vector, k, gamma_v)\n",
    "        log_lik_it = log_likelihood_X(X, z_vector, theta_matrix)\n",
    "        log_x_list.append(log_lik_it)\n",
    "\n",
    "        print('ITER: {} | log_lik: {}'.format(str(it), log_lik_it))\n",
    "\n",
    "        if it > burn_in: z_map += z_vector\n",
    "    Zk = np.argmax(z_map, axis=-1)\n",
    "    z_map = np.zeros([N, K])\n",
    "    for i in range(N):\n",
    "        z_map[i, Zk[i]] = 1.\n",
    "    return pi_vector, theta_matrix, z_vector, z_map, log_x_list"
   ]
  },
  {
   "cell_type": "code",
   "execution_count": 31,
   "metadata": {},
   "outputs": [
    {
     "name": "stdout",
     "output_type": "stream",
     "text": [
      "ITER: 0 | log_lik: -101250.93189820612\n",
      "ITER: 1 | log_lik: -98993.1880305202\n",
      "ITER: 2 | log_lik: -97736.05883526699\n",
      "ITER: 3 | log_lik: -96814.40911466107\n",
      "ITER: 4 | log_lik: -96141.6368338282\n",
      "ITER: 5 | log_lik: -95662.13875786256\n",
      "ITER: 6 | log_lik: -95580.91738674187\n",
      "ITER: 7 | log_lik: -95321.23685231026\n",
      "ITER: 8 | log_lik: -95213.28637060046\n",
      "ITER: 9 | log_lik: -94981.55894823025\n"
     ]
    }
   ],
   "source": [
    "np.random.seed(1234)\n",
    "\n",
    "alpha_v=1*np.ones(K)\n",
    "gamma_v=np.ones(I)\n",
    "\n",
    "pi_vector, theta_matrix, z_vector, z_map, log_x_list = fit_collapsed_pi_theta(X_matrix, K, alpha_v, gamma_v, \n",
    "                                                                              burn_in=3, n_iters=10)"
   ]
  },
  {
   "cell_type": "code",
   "execution_count": 32,
   "metadata": {},
   "outputs": [
    {
     "data": {
      "text/plain": [
       "Text(0, 0.5, '$log p(X|\\\\Theta)$')"
      ]
     },
     "execution_count": 32,
     "metadata": {},
     "output_type": "execute_result"
    },
    {
     "data": {
      "image/png": "[encoded data removed]",
      "text/plain": [
       "<Figure size 432x288 with 1 Axes>"
      ]
     },
     "metadata": {
      "needs_background": "light"
     },
     "output_type": "display_data"
    }
   ],
   "source": [
    "import matplotlib.pyplot as plt\n",
    "data = plt.plot(log_x_list)\n",
    "plt.xlabel('Iterations')\n",
    "plt.ylabel('$log p(X|\\Theta)$')"
   ]
  },
  {
   "cell_type": "code",
   "execution_count": 33,
   "metadata": {},
   "outputs": [],
   "source": [
    "data_algo_3 = log_x_list "
   ]
  },
  {
   "cell_type": "markdown",
   "metadata": {},
   "source": [
    "### Exercise 2.4\n",
    "Explain the differences in the convergence speed of the algorithms in terms of number of iterations and time. What is the reason behind the differences?"
   ]
  },
  {
   "cell_type": "markdown",
   "metadata": {
    "deletable": false,
    "nbgrader": {
     "cell_type": "markdown",
     "checksum": "8205b9afa3c0568498cf4b6f9f0a8e61",
     "grade": true,
     "grade_id": "cell-c8b4415b527a12e0",
     "locked": false,
     "points": 1,
     "schema_version": 3,
     "solution": true,
     "task": false
    }
   },
   "source": [
    "YOUR ANSWER HERE"
   ]
  },
  {
   "cell_type": "markdown",
   "metadata": {
    "deletable": false,
    "editable": false,
    "nbgrader": {
     "cell_type": "markdown",
     "checksum": "4671921cf64c4de4e2061f52d3f4392f",
     "grade": false,
     "grade_id": "cell-6e178a20a69bd486",
     "locked": true,
     "schema_version": 3,
     "solution": false,
     "task": false
    }
   },
   "source": [
    " Below you can add the code you consider necessary to answer Exercise 2.4."
   ]
  },
  {
   "cell_type": "code",
   "execution_count": 34,
   "metadata": {},
   "outputs": [
    {
     "data": {
      "image/png": "[encoded data removed]",
      "text/plain": [
       "<Figure size 432x288 with 1 Axes>"
      ]
     },
     "metadata": {
      "needs_background": "light"
     },
     "output_type": "display_data"
    }
   ],
   "source": [
    "import matplotlib.pyplot as plt\n",
    "plt.plot(data_algo_1)\n",
    "plt.plot(data_algo_2)\n",
    "plt.plot(data_algo_3)\n",
    "plt.show()"
   ]
  },
  {
   "cell_type": "markdown",
   "metadata": {},
   "source": [
    "As we observe from the above combined graph Algorithm 3(green) converges much faster than Algo 1(blue) and 2(orange). Both Algo 1 and 2 perform nearly the same but around iteration 10 one can observe a slight difference in them.  "
   ]
  }
 ],
 "metadata": {
  "anaconda-cloud": {},
  "kernelspec": {
   "display_name": "Python 3",
   "language": "python",
   "name": "python3"
  },
  "language_info": {
   "codemirror_mode": {
    "name": "ipython",
    "version": 3
   },
   "file_extension": ".py",
   "mimetype": "text/x-python",
   "name": "python",
   "nbconvert_exporter": "python",
   "pygments_lexer": "ipython3",
   "version": "3.8.5"
  },
  "pycharm": {
   "stem_cell": {
    "cell_type": "raw",
    "metadata": {
     "collapsed": false
    },
    "source": []
   }
  }
 },
 "nbformat": 4,
 "nbformat_minor": 2
}
